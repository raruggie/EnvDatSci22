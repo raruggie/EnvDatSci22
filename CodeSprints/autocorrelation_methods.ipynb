{
  "cells": [
    {
      "cell_type": "markdown",
      "metadata": {
        "id": "view-in-github",
        "colab_type": "text"
      },
      "source": [
        "<a href=\"https://colab.research.google.com/github/raruggie/EnvDatSci22/blob/master/CodeSprints/autocorrelation_methods.ipynb\" target=\"_parent\"><img src=\"https://colab.research.google.com/assets/colab-badge.svg\" alt=\"Open In Colab\"/></a>"
      ]
    },
    {
      "cell_type": "markdown",
      "id": "d31b57d1",
      "metadata": {
        "id": "d31b57d1"
      },
      "source": [
        "## Spatial Autocorrelation and Regression Analysis\n",
        "In this tutorial, you will calculate a global Moran's I statistic to evaluate spatial autocorrelation in your data, and then explore different methods to account for spatial autocorrelation in your data. Specifically, we'll compare parameter estimates relating county income to 2016 county voting preferences using an OLS model, and autoregressive model, and an autocovariance function model.\n"
      ]
    },
    {
      "cell_type": "code",
      "source": [
        "!pip install pysal\n",
        "!pip install libpysal\n",
        "!pip insall geopandas"
      ],
      "metadata": {
        "id": "DZ154BOnTp4P",
        "outputId": "0a0eda0a-b8cb-442b-9fb4-b6f18b5bd790",
        "colab": {
          "base_uri": "https://localhost:8080/"
        }
      },
      "id": "DZ154BOnTp4P",
      "execution_count": 1,
      "outputs": [
        {
          "output_type": "stream",
          "name": "stdout",
          "text": [
            "Looking in indexes: https://pypi.org/simple, https://us-python.pkg.dev/colab-wheels/public/simple/\n",
            "Collecting pysal\n",
            "  Downloading pysal-2.7.0-py3-none-any.whl (17 kB)\n",
            "Collecting access>=1.1.8\n",
            "  Downloading access-1.1.8-py3-none-any.whl (21 kB)\n",
            "Collecting spopt>=0.4.1\n",
            "  Downloading spopt-0.4.1-py3-none-any.whl (84 kB)\n",
            "\u001b[K     |████████████████████████████████| 84 kB 2.9 MB/s \n",
            "\u001b[?25hCollecting esda>=2.4.1\n",
            "  Downloading esda-2.4.3.tar.gz (116 kB)\n",
            "\u001b[K     |████████████████████████████████| 116 kB 42.6 MB/s \n",
            "\u001b[?25hCollecting spglm>=1.0.8\n",
            "  Downloading spglm-1.0.8.tar.gz (37 kB)\n",
            "Collecting segregation>=2.3.1\n",
            "  Downloading segregation-2.3.1-py3-none-any.whl (147 kB)\n",
            "\u001b[K     |████████████████████████████████| 147 kB 40.8 MB/s \n",
            "\u001b[?25hCollecting pysal\n",
            "  Downloading pysal-2.6.0-py3-none-any.whl (17 kB)\n",
            "Collecting splot>=1.1.4\n",
            "  Downloading splot-1.1.5.post1-py3-none-any.whl (39 kB)\n",
            "Collecting tobler>=0.8.2\n",
            "  Downloading tobler-0.9.0-py3-none-any.whl (22 kB)\n",
            "Collecting mapclassify>=2.4.3\n",
            "  Downloading mapclassify-2.4.3-py3-none-any.whl (38 kB)\n",
            "Collecting inequality>=1.0.0\n",
            "  Downloading inequality-1.0.0.tar.gz (11 kB)\n",
            "Collecting giddy>=2.3.3\n",
            "  Downloading giddy-2.3.3-py3-none-any.whl (60 kB)\n",
            "\u001b[K     |████████████████████████████████| 60 kB 5.0 MB/s \n",
            "\u001b[?25hCollecting spaghetti>=1.6.5\n",
            "  Downloading spaghetti-1.6.5-py3-none-any.whl (46 kB)\n",
            "\u001b[K     |████████████████████████████████| 46 kB 2.2 MB/s \n",
            "\u001b[?25hCollecting momepy>=0.5.2\n",
            "  Downloading momepy-0.5.4-py3-none-any.whl (243 kB)\n",
            "\u001b[K     |████████████████████████████████| 243 kB 39.7 MB/s \n",
            "\u001b[?25hCollecting spreg>=1.2.4\n",
            "  Downloading spreg-1.3.0-py3-none-any.whl (220 kB)\n",
            "\u001b[K     |████████████████████████████████| 220 kB 51.7 MB/s \n",
            "\u001b[?25hCollecting spvcm>=0.3.0\n",
            "  Downloading spvcm-0.3.0.tar.gz (5.7 MB)\n",
            "\u001b[K     |████████████████████████████████| 5.7 MB 41.3 MB/s \n",
            "\u001b[?25hCollecting mgwr>=2.1.2\n",
            "  Downloading mgwr-2.1.2.tar.gz (41 kB)\n",
            "\u001b[K     |████████████████████████████████| 41 kB 631 kB/s \n",
            "\u001b[?25hCollecting libpysal>=4.6.0\n",
            "  Downloading libpysal-4.6.2-py3-none-any.whl (2.4 MB)\n",
            "\u001b[K     |████████████████████████████████| 2.4 MB 34.7 MB/s \n",
            "\u001b[?25hCollecting pointpats>=2.2.0\n",
            "  Downloading pointpats-2.2.0.tar.gz (55 kB)\n",
            "\u001b[K     |████████████████████████████████| 55 kB 2.4 MB/s \n",
            "\u001b[?25hCollecting spint>=1.0.7\n",
            "  Downloading spint-1.0.7.tar.gz (28 kB)\n",
            "Requirement already satisfied: pandas>=0.23.4 in /usr/local/lib/python3.7/dist-packages (from access>=1.1.8->pysal) (1.3.5)\n",
            "Requirement already satisfied: requests>=2 in /usr/local/lib/python3.7/dist-packages (from access>=1.1.8->pysal) (2.23.0)\n",
            "Collecting geopandas\n",
            "  Downloading geopandas-0.10.2-py2.py3-none-any.whl (1.0 MB)\n",
            "\u001b[K     |████████████████████████████████| 1.0 MB 41.7 MB/s \n",
            "\u001b[?25hRequirement already satisfied: numpy>=1.3 in /usr/local/lib/python3.7/dist-packages (from access>=1.1.8->pysal) (1.21.6)\n",
            "Requirement already satisfied: scipy>=0.11 in /usr/local/lib/python3.7/dist-packages (from esda>=2.4.1->pysal) (1.7.3)\n",
            "Requirement already satisfied: scikit-learn in /usr/local/lib/python3.7/dist-packages (from esda>=2.4.1->pysal) (1.0.2)\n",
            "Collecting quantecon>=0.4.7\n",
            "  Downloading quantecon-0.5.3-py3-none-any.whl (179 kB)\n",
            "\u001b[K     |████████████████████████████████| 179 kB 46.7 MB/s \n",
            "\u001b[?25hRequirement already satisfied: jinja2 in /usr/local/lib/python3.7/dist-packages (from libpysal>=4.6.0->pysal) (2.11.3)\n",
            "Requirement already satisfied: beautifulsoup4 in /usr/local/lib/python3.7/dist-packages (from libpysal>=4.6.0->pysal) (4.6.3)\n",
            "Requirement already satisfied: appdirs in /usr/local/lib/python3.7/dist-packages (from libpysal>=4.6.0->pysal) (1.4.4)\n",
            "Requirement already satisfied: packaging in /usr/local/lib/python3.7/dist-packages (from libpysal>=4.6.0->pysal) (21.3)\n",
            "Requirement already satisfied: networkx in /usr/local/lib/python3.7/dist-packages (from mapclassify>=2.4.3->pysal) (2.6.3)\n",
            "Collecting pygeos\n",
            "  Downloading pygeos-0.13-cp37-cp37m-manylinux_2_17_x86_64.manylinux2014_x86_64.whl (2.1 MB)\n",
            "\u001b[K     |████████████████████████████████| 2.1 MB 32.0 MB/s \n",
            "\u001b[?25hRequirement already satisfied: tqdm>=4.27.0 in /usr/local/lib/python3.7/dist-packages (from momepy>=0.5.2->pysal) (4.64.1)\n",
            "Collecting pyproj>=2.2.0\n",
            "  Downloading pyproj-3.2.1-cp37-cp37m-manylinux2010_x86_64.whl (6.3 MB)\n",
            "\u001b[K     |████████████████████████████████| 6.3 MB 30.0 MB/s \n",
            "\u001b[?25hCollecting fiona>=1.8\n",
            "  Downloading Fiona-1.8.22-cp37-cp37m-manylinux2014_x86_64.whl (16.7 MB)\n",
            "\u001b[K     |████████████████████████████████| 16.7 MB 40.3 MB/s \n",
            "\u001b[?25hRequirement already satisfied: shapely>=1.6 in /usr/local/lib/python3.7/dist-packages (from geopandas->access>=1.1.8->pysal) (1.8.5.post1)\n",
            "Collecting munch\n",
            "  Downloading munch-2.5.0-py2.py3-none-any.whl (10 kB)\n",
            "Requirement already satisfied: attrs>=17 in /usr/local/lib/python3.7/dist-packages (from fiona>=1.8->geopandas->access>=1.1.8->pysal) (22.1.0)\n",
            "Requirement already satisfied: six>=1.7 in /usr/local/lib/python3.7/dist-packages (from fiona>=1.8->geopandas->access>=1.1.8->pysal) (1.15.0)\n",
            "Collecting cligj>=0.5\n",
            "  Downloading cligj-0.7.2-py3-none-any.whl (7.1 kB)\n",
            "Collecting click-plugins>=1.0\n",
            "  Downloading click_plugins-1.1.1-py2.py3-none-any.whl (7.5 kB)\n",
            "Requirement already satisfied: click>=4.0 in /usr/local/lib/python3.7/dist-packages (from fiona>=1.8->geopandas->access>=1.1.8->pysal) (7.1.2)\n",
            "Requirement already satisfied: certifi in /usr/local/lib/python3.7/dist-packages (from fiona>=1.8->geopandas->access>=1.1.8->pysal) (2022.9.24)\n",
            "Requirement already satisfied: setuptools in /usr/local/lib/python3.7/dist-packages (from fiona>=1.8->geopandas->access>=1.1.8->pysal) (57.4.0)\n",
            "Requirement already satisfied: python-dateutil>=2.7.3 in /usr/local/lib/python3.7/dist-packages (from pandas>=0.23.4->access>=1.1.8->pysal) (2.8.2)\n",
            "Requirement already satisfied: pytz>=2017.3 in /usr/local/lib/python3.7/dist-packages (from pandas>=0.23.4->access>=1.1.8->pysal) (2022.6)\n",
            "Requirement already satisfied: matplotlib in /usr/local/lib/python3.7/dist-packages (from pointpats>=2.2.0->pysal) (3.2.2)\n",
            "Requirement already satisfied: opencv-contrib-python>=4.2.0 in /usr/local/lib/python3.7/dist-packages (from pointpats>=2.2.0->pysal) (4.6.0.66)\n",
            "Requirement already satisfied: numba in /usr/local/lib/python3.7/dist-packages (from quantecon>=0.4.7->giddy>=2.3.3->pysal) (0.56.4)\n",
            "Requirement already satisfied: sympy in /usr/local/lib/python3.7/dist-packages (from quantecon>=0.4.7->giddy>=2.3.3->pysal) (1.7.1)\n",
            "Requirement already satisfied: urllib3!=1.25.0,!=1.25.1,<1.26,>=1.21.1 in /usr/local/lib/python3.7/dist-packages (from requests>=2->access>=1.1.8->pysal) (1.24.3)\n",
            "Requirement already satisfied: chardet<4,>=3.0.2 in /usr/local/lib/python3.7/dist-packages (from requests>=2->access>=1.1.8->pysal) (3.0.4)\n",
            "Requirement already satisfied: idna<3,>=2.5 in /usr/local/lib/python3.7/dist-packages (from requests>=2->access>=1.1.8->pysal) (2.10)\n",
            "Requirement already satisfied: joblib in /usr/local/lib/python3.7/dist-packages (from segregation>=2.3.1->pysal) (1.2.0)\n",
            "Collecting quilt3\n",
            "  Downloading quilt3-5.0.0-py3-none-any.whl (78 kB)\n",
            "\u001b[K     |████████████████████████████████| 78 kB 7.2 MB/s \n",
            "\u001b[?25hCollecting rvlib>=0.0.5\n",
            "  Downloading rvlib-0.0.6.tar.gz (183 kB)\n",
            "\u001b[K     |████████████████████████████████| 183 kB 69.7 MB/s \n",
            "\u001b[?25hCollecting deprecation\n",
            "  Downloading deprecation-2.1.0-py2.py3-none-any.whl (11 kB)\n",
            "Requirement already satisfied: pip in /usr/local/lib/python3.7/dist-packages (from segregation>=2.3.1->pysal) (21.1.3)\n",
            "Requirement already satisfied: seaborn in /usr/local/lib/python3.7/dist-packages (from segregation>=2.3.1->pysal) (0.11.2)\n",
            "Requirement already satisfied: cffi>=1.0.0 in /usr/local/lib/python3.7/dist-packages (from rvlib>=0.0.5->segregation>=2.3.1->pysal) (1.15.1)\n",
            "Requirement already satisfied: PyYAML in /usr/local/lib/python3.7/dist-packages (from rvlib>=0.0.5->segregation>=2.3.1->pysal) (6.0)\n",
            "Requirement already satisfied: pycparser in /usr/local/lib/python3.7/dist-packages (from cffi>=1.0.0->rvlib>=0.0.5->segregation>=2.3.1->pysal) (2.21)\n",
            "Requirement already satisfied: importlib-metadata in /usr/local/lib/python3.7/dist-packages (from numba->quantecon>=0.4.7->giddy>=2.3.3->pysal) (4.13.0)\n",
            "Requirement already satisfied: llvmlite<0.40,>=0.39.0dev0 in /usr/local/lib/python3.7/dist-packages (from numba->quantecon>=0.4.7->giddy>=2.3.3->pysal) (0.39.1)\n",
            "Requirement already satisfied: threadpoolctl>=2.0.0 in /usr/local/lib/python3.7/dist-packages (from scikit-learn->esda>=2.4.1->pysal) (3.1.0)\n",
            "Collecting rtree\n",
            "  Downloading Rtree-1.0.1-cp37-cp37m-manylinux_2_17_x86_64.manylinux2014_x86_64.whl (1.0 MB)\n",
            "\u001b[K     |████████████████████████████████| 1.0 MB 62.1 MB/s \n",
            "\u001b[?25hCollecting pulp\n",
            "  Downloading PuLP-2.7.0-py3-none-any.whl (14.3 MB)\n",
            "\u001b[K     |████████████████████████████████| 14.3 MB 49.1 MB/s \n",
            "\u001b[?25hCollecting rasterio\n",
            "  Downloading rasterio-1.2.10-cp37-cp37m-manylinux1_x86_64.whl (19.3 MB)\n",
            "\u001b[K     |████████████████████████████████| 19.3 MB 1.1 MB/s \n",
            "\u001b[?25hCollecting rasterstats\n",
            "  Downloading rasterstats-0.17.0-py3-none-any.whl (16 kB)\n",
            "Requirement already satisfied: statsmodels in /usr/local/lib/python3.7/dist-packages (from tobler>=0.8.2->pysal) (0.12.2)\n",
            "Requirement already satisfied: zipp>=0.5 in /usr/local/lib/python3.7/dist-packages (from importlib-metadata->numba->quantecon>=0.4.7->giddy>=2.3.3->pysal) (3.10.0)\n",
            "Requirement already satisfied: typing-extensions>=3.6.4 in /usr/local/lib/python3.7/dist-packages (from importlib-metadata->numba->quantecon>=0.4.7->giddy>=2.3.3->pysal) (4.1.1)\n",
            "Requirement already satisfied: MarkupSafe>=0.23 in /usr/local/lib/python3.7/dist-packages (from jinja2->libpysal>=4.6.0->pysal) (2.0.1)\n",
            "Requirement already satisfied: pyparsing!=2.0.4,!=2.1.2,!=2.1.6,>=2.0.1 in /usr/local/lib/python3.7/dist-packages (from matplotlib->pointpats>=2.2.0->pysal) (3.0.9)\n",
            "Requirement already satisfied: kiwisolver>=1.0.1 in /usr/local/lib/python3.7/dist-packages (from matplotlib->pointpats>=2.2.0->pysal) (1.4.4)\n",
            "Requirement already satisfied: cycler>=0.10 in /usr/local/lib/python3.7/dist-packages (from matplotlib->pointpats>=2.2.0->pysal) (0.11.0)\n",
            "Collecting boto3>=1.10.0\n",
            "  Downloading boto3-1.26.6-py3-none-any.whl (132 kB)\n",
            "\u001b[K     |████████████████████████████████| 132 kB 56.5 MB/s \n",
            "\u001b[?25hRequirement already satisfied: jsonschema<5,>=3 in /usr/local/lib/python3.7/dist-packages (from quilt3->segregation>=2.3.1->pysal) (4.3.3)\n",
            "Collecting jsonlines==1.2.0\n",
            "  Downloading jsonlines-1.2.0-py2.py3-none-any.whl (7.6 kB)\n",
            "Requirement already satisfied: tenacity>=5.1.1 in /usr/local/lib/python3.7/dist-packages (from quilt3->segregation>=2.3.1->pysal) (8.1.0)\n",
            "Collecting aws-requests-auth>=0.4.2\n",
            "  Downloading aws_requests_auth-0.4.3-py2.py3-none-any.whl (6.8 kB)\n",
            "Collecting requests-futures==1.0.0\n",
            "  Downloading requests_futures-1.0.0-py2.py3-none-any.whl (7.4 kB)\n",
            "Collecting s3transfer<0.7.0,>=0.6.0\n",
            "  Downloading s3transfer-0.6.0-py3-none-any.whl (79 kB)\n",
            "\u001b[K     |████████████████████████████████| 79 kB 7.7 MB/s \n",
            "\u001b[?25hCollecting botocore<1.30.0,>=1.29.6\n",
            "  Downloading botocore-1.29.6-py3-none-any.whl (9.9 MB)\n",
            "\u001b[K     |████████████████████████████████| 9.9 MB 47.7 MB/s \n",
            "\u001b[?25hCollecting jmespath<2.0.0,>=0.7.1\n",
            "  Downloading jmespath-1.0.1-py3-none-any.whl (20 kB)\n",
            "Collecting urllib3!=1.25.0,!=1.25.1,<1.26,>=1.21.1\n",
            "  Downloading urllib3-1.25.11-py2.py3-none-any.whl (127 kB)\n",
            "\u001b[K     |████████████████████████████████| 127 kB 59.8 MB/s \n",
            "\u001b[?25hRequirement already satisfied: pyrsistent!=0.17.0,!=0.17.1,!=0.17.2,>=0.14.0 in /usr/local/lib/python3.7/dist-packages (from jsonschema<5,>=3->quilt3->segregation>=2.3.1->pysal) (0.19.2)\n",
            "Requirement already satisfied: importlib-resources>=1.4.0 in /usr/local/lib/python3.7/dist-packages (from jsonschema<5,>=3->quilt3->segregation>=2.3.1->pysal) (5.10.0)\n",
            "Collecting affine\n",
            "  Downloading affine-2.3.1-py2.py3-none-any.whl (16 kB)\n",
            "Collecting snuggs>=1.4.1\n",
            "  Downloading snuggs-1.4.7-py3-none-any.whl (5.4 kB)\n",
            "Collecting simplejson\n",
            "  Downloading simplejson-3.17.6-cp37-cp37m-manylinux_2_5_x86_64.manylinux1_x86_64.manylinux_2_12_x86_64.manylinux2010_x86_64.whl (130 kB)\n",
            "\u001b[K     |████████████████████████████████| 130 kB 64.1 MB/s \n",
            "\u001b[?25hRequirement already satisfied: patsy>=0.5 in /usr/local/lib/python3.7/dist-packages (from statsmodels->tobler>=0.8.2->pysal) (0.5.3)\n",
            "Requirement already satisfied: mpmath>=0.19 in /usr/local/lib/python3.7/dist-packages (from sympy->quantecon>=0.4.7->giddy>=2.3.3->pysal) (1.2.1)\n",
            "Building wheels for collected packages: esda, inequality, mgwr, pointpats, rvlib, spglm, spint, spvcm\n",
            "  Building wheel for esda (setup.py) ... \u001b[?25l\u001b[?25hdone\n",
            "  Created wheel for esda: filename=esda-2.4.3-py3-none-any.whl size=122782 sha256=a77b182c0fbc236a1725b47796abbb723a223a4555abc048c9939a8bcf88439d\n",
            "  Stored in directory: /root/.cache/pip/wheels/37/07/2e/2aa4874ca25fa442a3912c74e53780da19d25ec1d58bac5d30\n",
            "  Building wheel for inequality (setup.py) ... \u001b[?25l\u001b[?25hdone\n",
            "  Created wheel for inequality: filename=inequality-1.0.0-py3-none-any.whl size=11800 sha256=d401b66c6e162da1e0a7d9d5629a12515a650d3d3f39c8d55bf7b55494e2d900\n",
            "  Stored in directory: /root/.cache/pip/wheels/a8/81/7a/af8b9e8ea0b034ac1bdd9d68f3a8ceac179eb5418cdb83c851\n",
            "  Building wheel for mgwr (setup.py) ... \u001b[?25l\u001b[?25hdone\n",
            "  Created wheel for mgwr: filename=mgwr-2.1.2-py3-none-any.whl size=46384 sha256=3d7c1bcd055c66bacf502ed87db0418fba0b3d10aea229f5c47bbb2e7e64e96f\n",
            "  Stored in directory: /root/.cache/pip/wheels/e8/55/57/c1bf993ab0ab4b9885ac1fdf7f9f960397355cf889b77a3e4b\n",
            "  Building wheel for pointpats (setup.py) ... \u001b[?25l\u001b[?25hdone\n",
            "  Created wheel for pointpats: filename=pointpats-2.2.0-py3-none-any.whl size=60837 sha256=66b306e034e6f1af0b584043f3acf04e7fd340b87fe024b38650840dff3a0462\n",
            "  Stored in directory: /root/.cache/pip/wheels/41/5f/91/08cc68af630fafdc6bed36128abf8e716e062256a8495fdb2d\n",
            "  Building wheel for rvlib (setup.py) ... \u001b[?25l\u001b[?25hdone\n",
            "  Created wheel for rvlib: filename=rvlib-0.0.6-cp37-cp37m-linux_x86_64.whl size=351337 sha256=32969551b240bd1f2547d5c2e47923e1bdc3d96cd7430035331b76f30966d0cf\n",
            "  Stored in directory: /root/.cache/pip/wheels/8e/fe/cb/66b78310be88014dfbe1a21391c873a9fe49dca403f7d9f454\n",
            "  Building wheel for spglm (setup.py) ... \u001b[?25l\u001b[?25hdone\n",
            "  Created wheel for spglm: filename=spglm-1.0.8-py3-none-any.whl size=38805 sha256=d4d0370304425b717d26aa71f136c1ad124631b09fd7168dcf27090b06269ad5\n",
            "  Stored in directory: /root/.cache/pip/wheels/29/79/e9/453e3b0d858bed16e097c6e6bbd75e2b966bfcfb21b12790d0\n",
            "  Building wheel for spint (setup.py) ... \u001b[?25l\u001b[?25hdone\n",
            "  Created wheel for spint: filename=spint-1.0.7-py3-none-any.whl size=31383 sha256=01547879c01ae072e75e472439f24470cc07767e56cebb8c6650c36e89958600\n",
            "  Stored in directory: /root/.cache/pip/wheels/dd/ac/5d/25d69231f3bffa2cb47ce29bb7eac9df9246aa9ba286a03a2d\n",
            "  Building wheel for spvcm (setup.py) ... \u001b[?25l\u001b[?25hdone\n",
            "  Created wheel for spvcm: filename=spvcm-0.3.0-py3-none-any.whl size=5777202 sha256=918bca2e496c715f9b537465fd526673e488d3e275eecaea87bfd4b98f59c34c\n",
            "  Stored in directory: /root/.cache/pip/wheels/a4/85/1a/d890ef4d2eaca2788e45925fa531bb58a2138734065abdfe08\n",
            "Successfully built esda inequality mgwr pointpats rvlib spglm spint spvcm\n",
            "Installing collected packages: urllib3, jmespath, botocore, snuggs, s3transfer, munch, libpysal, cligj, click-plugins, affine, spreg, simplejson, rtree, requests-futures, rasterio, quantecon, pyproj, mapclassify, jsonlines, fiona, esda, boto3, aws-requests-auth, spglm, spaghetti, rvlib, rasterstats, quilt3, pygeos, pulp, giddy, geopandas, deprecation, tobler, spvcm, spopt, splot, spint, segregation, pointpats, momepy, mgwr, inequality, access, pysal\n",
            "  Attempting uninstall: urllib3\n",
            "    Found existing installation: urllib3 1.24.3\n",
            "    Uninstalling urllib3-1.24.3:\n",
            "      Successfully uninstalled urllib3-1.24.3\n",
            "Successfully installed access-1.1.8 affine-2.3.1 aws-requests-auth-0.4.3 boto3-1.26.6 botocore-1.29.6 click-plugins-1.1.1 cligj-0.7.2 deprecation-2.1.0 esda-2.4.3 fiona-1.8.22 geopandas-0.10.2 giddy-2.3.3 inequality-1.0.0 jmespath-1.0.1 jsonlines-1.2.0 libpysal-4.6.2 mapclassify-2.4.3 mgwr-2.1.2 momepy-0.5.4 munch-2.5.0 pointpats-2.2.0 pulp-2.7.0 pygeos-0.13 pyproj-3.2.1 pysal-2.6.0 quantecon-0.5.3 quilt3-5.0.0 rasterio-1.2.10 rasterstats-0.17.0 requests-futures-1.0.0 rtree-1.0.1 rvlib-0.0.6 s3transfer-0.6.0 segregation-2.3.1 simplejson-3.17.6 snuggs-1.4.7 spaghetti-1.6.5 spglm-1.0.8 spint-1.0.7 splot-1.1.5.post1 spopt-0.4.1 spreg-1.3.0 spvcm-0.3.0 tobler-0.9.0 urllib3-1.25.11\n",
            "Looking in indexes: https://pypi.org/simple, https://us-python.pkg.dev/colab-wheels/public/simple/\n",
            "Requirement already satisfied: libpysal in /usr/local/lib/python3.7/dist-packages (4.6.2)\n",
            "Requirement already satisfied: pandas in /usr/local/lib/python3.7/dist-packages (from libpysal) (1.3.5)\n",
            "Requirement already satisfied: requests in /usr/local/lib/python3.7/dist-packages (from libpysal) (2.23.0)\n",
            "Requirement already satisfied: packaging in /usr/local/lib/python3.7/dist-packages (from libpysal) (21.3)\n",
            "Requirement already satisfied: jinja2 in /usr/local/lib/python3.7/dist-packages (from libpysal) (2.11.3)\n",
            "Requirement already satisfied: beautifulsoup4 in /usr/local/lib/python3.7/dist-packages (from libpysal) (4.6.3)\n",
            "Requirement already satisfied: appdirs in /usr/local/lib/python3.7/dist-packages (from libpysal) (1.4.4)\n",
            "Requirement already satisfied: scipy>=0.11 in /usr/local/lib/python3.7/dist-packages (from libpysal) (1.7.3)\n",
            "Requirement already satisfied: numpy>=1.3 in /usr/local/lib/python3.7/dist-packages (from libpysal) (1.21.6)\n",
            "Requirement already satisfied: MarkupSafe>=0.23 in /usr/local/lib/python3.7/dist-packages (from jinja2->libpysal) (2.0.1)\n",
            "Requirement already satisfied: pyparsing!=3.0.5,>=2.0.2 in /usr/local/lib/python3.7/dist-packages (from packaging->libpysal) (3.0.9)\n",
            "Requirement already satisfied: python-dateutil>=2.7.3 in /usr/local/lib/python3.7/dist-packages (from pandas->libpysal) (2.8.2)\n",
            "Requirement already satisfied: pytz>=2017.3 in /usr/local/lib/python3.7/dist-packages (from pandas->libpysal) (2022.6)\n",
            "Requirement already satisfied: six>=1.5 in /usr/local/lib/python3.7/dist-packages (from python-dateutil>=2.7.3->pandas->libpysal) (1.15.0)\n",
            "Requirement already satisfied: idna<3,>=2.5 in /usr/local/lib/python3.7/dist-packages (from requests->libpysal) (2.10)\n",
            "Requirement already satisfied: chardet<4,>=3.0.2 in /usr/local/lib/python3.7/dist-packages (from requests->libpysal) (3.0.4)\n",
            "Requirement already satisfied: certifi>=2017.4.17 in /usr/local/lib/python3.7/dist-packages (from requests->libpysal) (2022.9.24)\n",
            "Requirement already satisfied: urllib3!=1.25.0,!=1.25.1,<1.26,>=1.21.1 in /usr/local/lib/python3.7/dist-packages (from requests->libpysal) (1.25.11)\n",
            "ERROR: unknown command \"insall\" - maybe you meant \"install\"\n"
          ]
        }
      ]
    },
    {
      "cell_type": "code",
      "execution_count": 2,
      "id": "44184ce0",
      "metadata": {
        "id": "44184ce0"
      },
      "outputs": [],
      "source": [
        "import pysal as ps\n",
        "import numpy as np\n",
        "import geopandas as gpd\n",
        "import pandas as pd\n",
        "import matplotlib.pyplot as plt\n",
        "import seaborn as sns\n",
        "from libpysal.weights.contiguity import Queen\n",
        "import libpysal\n",
        "from splot.libpysal import plot_spatial_weights\n",
        "from splot.esda import moran_scatterplot\n",
        "from splot.esda import plot_moran\n",
        "from esda.moran import Moran_Local\n",
        "from esda.moran import Moran\n",
        "from statsmodels.api import OLS\n",
        "from pysal.model import spreg\n",
        "sns.set_style('white')"
      ]
    },
    {
      "cell_type": "code",
      "source": [
        "#attach to Google Drive\n",
        "from google.colab import drive\n",
        "drive.mount('/content/drive')"
      ],
      "metadata": {
        "id": "5JfUDFtUBkQC",
        "outputId": "d3814062-d226-4e86-c89c-47c860518887",
        "colab": {
          "base_uri": "https://localhost:8080/"
        }
      },
      "id": "5JfUDFtUBkQC",
      "execution_count": 3,
      "outputs": [
        {
          "output_type": "stream",
          "name": "stdout",
          "text": [
            "Mounted at /content/drive\n"
          ]
        }
      ]
    },
    {
      "cell_type": "markdown",
      "id": "8de413cf",
      "metadata": {
        "id": "8de413cf"
      },
      "source": [
        "First, we're going to open 'Elections' dataset from the Geodata Center at the University of Chicago.\n",
        "\n",
        "* More on spatial data science resources from UC: https://spatial.uchicago.edu/\n",
        "* A list of datasets available through lipysal: https://geodacenter.github.io/data-and-lab//\n",
        "\n",
        "Using our multicollinearity.ipynb, we downloaded this dataset to *H:/EnvDatSci/election/election.shp*\n",
        "\n",
        "**Note: it may be on a different location on your computer**\n",
        "\n",
        "### TASK 1: access the \"election\" shapefile used in the multicollinearity.ipnb script"
      ]
    },
    {
      "cell_type": "code",
      "execution_count": 4,
      "id": "e9f020cb",
      "metadata": {
        "id": "e9f020cb",
        "outputId": "15a63b9c-5479-441d-b043-799ecfb42b0c",
        "colab": {
          "base_uri": "https://localhost:8080/"
        }
      },
      "outputs": [
        {
          "output_type": "stream",
          "name": "stdout",
          "text": [
            "Archive:  elections.zip\n",
            "   creating: election/\n",
            "  inflating: election/election.prj   \n",
            "  inflating: election/election.shx   \n",
            "  inflating: election/election.shp   \n",
            "   creating: __MACOSX/\n",
            "   creating: __MACOSX/election/\n",
            "  inflating: __MACOSX/election/._election.shp  \n",
            "  inflating: election/election.dbf   \n"
          ]
        }
      ],
      "source": [
        "# Task 1\n",
        "#import required function:\n",
        "import urllib.request\n",
        "\n",
        "#define online filepath (aka url):\n",
        "url = 'https://geodacenter.github.io/data-and-lab//data/election.zip'\n",
        "\n",
        "#define local filepath:\n",
        "local = 'elections.zip'\n",
        "\n",
        "#download elections data:\n",
        "urllib.request.urlretrieve(url,local)\n",
        "\n",
        "#unzip file: see if google can help you figure this one out!\n",
        "!unzip elections.zip\n",
        "\n",
        "import os\n",
        "#name the filepath relative to your working directory: note this is operating system agnostic\n",
        "votes_path = os.path.join(\"/content\", \"election\", \"election.shp\")\n",
        "\n",
        "#use geopandas as gpd to \"read_file\"\n",
        "votes = gpd.read_file(votes_path)\n"
      ]
    },
    {
      "cell_type": "code",
      "execution_count": null,
      "id": "bd3fb59c",
      "metadata": {
        "id": "bd3fb59c"
      },
      "outputs": [],
      "source": [
        "#Let's view the shapefile to get a general idea of the geometry we're looking at:\n",
        "%matplotlib inline\n",
        "votes.plot()"
      ]
    },
    {
      "cell_type": "code",
      "execution_count": null,
      "id": "05895af3",
      "metadata": {
        "id": "05895af3"
      },
      "outputs": [],
      "source": [
        "#View the first few line]s of the dataset\n",
        "votes.head()"
      ]
    },
    {
      "cell_type": "markdown",
      "id": "c2f27a6b",
      "metadata": {
        "id": "c2f27a6b"
      },
      "source": [
        "In our multicollinearity notebook, we visualized the voting trends, and the change in voting trends, in space. First we created a new column indicating the percent change in democratic vote. Then we plotted the percent democratic vote in 2012, the percent democratic vote in 2016, and the percent change in democratic vote as maps and using global histograms."
      ]
    },
    {
      "cell_type": "code",
      "execution_count": null,
      "id": "c9c70a10",
      "metadata": {
        "id": "c9c70a10"
      },
      "outputs": [],
      "source": [
        "# Add new column pct_dem_change to votes:\n",
        "votes['pct_dem_change'] = votes['pct_dem_12'] - votes['pct_dem_16']\n",
        "\n",
        "f,ax = plt.subplots(3,2, figsize=(1.6*6 + 1,4.2*3), gridspec_kw=dict(width_ratios=(6,1)))\n",
        "for i,col in enumerate(['pct_dem_12','pct_dem_16', 'pct_dem_change']):\n",
        "    votes.plot(col, linewidth=.05, cmap='RdBu', ax=ax[i,0])\n",
        "    ax[i,0].set_title(['2012','2016', '2012-2016 change'][i] + \"% democratic vote\")\n",
        "    ax[i,0].set_xticklabels('')\n",
        "    ax[i,0].set_yticklabels('')\n",
        "    sns.kdeplot(votes[col].values, ax=ax[i,1], vertical=True, shade=True, color='slategrey')\n",
        "    ax[i,1].set_xticklabels('')\n",
        "    ax[i,1].set_ylim(-1,1)\n",
        "f.tight_layout()\n",
        "plt.show()"
      ]
    },
    {
      "cell_type": "markdown",
      "id": "87d4407b",
      "metadata": {
        "id": "87d4407b"
      },
      "source": [
        "### Spatial Autocorrelation\n",
        "From https://www.sciencedirect.com/topics/computer-science/spatial-autocorrelation \n",
        "\n",
        ">\"Spatial autocorrelation is the term used to describe the presence of *systematic* spatial variation in a variable and positive spatial autocorrelation, which is most often encountered in practical situations, is the tendency for areas or sites that are close together to have similar values.\""
      ]
    },
    {
      "cell_type": "markdown",
      "id": "43b4e7c8",
      "metadata": {
        "id": "43b4e7c8"
      },
      "source": [
        "### TASK 2: Do you see evidence for *spatial autocorrelation* in the three plots above? If so, describe the evidence that you see.\n",
        "\n"
      ]
    },
    {
      "cell_type": "markdown",
      "id": "bf1bd754",
      "metadata": {
        "id": "bf1bd754"
      },
      "source": [
        "## Was the county wide percent change in democratic vote related to per capita income?\n",
        "The next question is how can we use robust statistics to determine whether per capita income or the county land area were related to a change in 2016 voting preferences. To do this, we're going to conduct a linear regression relating our parameters pct_dem_change to INC910213 and ALAND. Then, we're going to use the confidence interval around beta hat (our slope parameter estimate) to determine whether the relationships between INC910213, ALAND, and pct_dem_change are significantly different than zero.\n",
        "\n",
        "First we're going to visualize how these variables relate in the global data:"
      ]
    },
    {
      "cell_type": "code",
      "execution_count": null,
      "id": "37b7c6e3",
      "metadata": {
        "id": "37b7c6e3"
      },
      "outputs": [],
      "source": [
        "votes.dropna(subset=['pct_dem_12','pct_dem_16'], inplace=True)"
      ]
    },
    {
      "cell_type": "code",
      "execution_count": null,
      "id": "566b6d28",
      "metadata": {
        "id": "566b6d28"
      },
      "outputs": [],
      "source": [
        "f,ax = plt.subplots(1,4, figsize=(4*3.1,4))\n",
        "\n",
        "votes[['pct_dem_12','pct_dem_16']].plot.scatter('pct_dem_12','pct_dem_16', ax=ax[0])\n",
        "ax[0].set_xlabel('2012 Two Party Vote (% Dem)')\n",
        "ax[0].set_ylabel('2016 Two Party Vote (% Dem)')\n",
        "print(np.corrcoef(votes['pct_dem_12'].values, votes['pct_dem_16'].values)[0,1])\n",
        "\n",
        "\n",
        "votes[['INC910213','pct_dem_change']].plot.scatter('INC910213','pct_dem_change', ax=ax[1])\n",
        "ax[1].set_xlabel('Per capita income')\n",
        "ax[1].set_ylabel('% Change in Democratic Vote')\n",
        "print(np.corrcoef(votes['pct_dem_change'].values, votes['INC910213'].values)[0,1])\n",
        "\n",
        "votes[['ALAND','pct_dem_change']].plot.scatter('ALAND','pct_dem_change', ax=ax[2])\n",
        "ax[2].set_xlabel('County land area')\n",
        "ax[2].set_ylabel('% Change in Democratic Vote')\n",
        "print(np.corrcoef(votes['pct_dem_change'].values, votes['ALAND'].values)[0,1])\n",
        "\n",
        "votes[['INC910213','ALAND']].plot.scatter('INC910213','ALAND', ax=ax[3])\n",
        "ax[3].set_xlabel('Per capita income')\n",
        "ax[3].set_ylabel('County land area')\n",
        "print(np.corrcoef(votes['INC910213'].values, votes['ALAND'].values)[0,1])\n",
        "\n",
        "f.tight_layout()\n",
        "plt.show()"
      ]
    },
    {
      "cell_type": "markdown",
      "source": [
        "### TASK 3: Do we have significant collinearity in our data?\n",
        "\n"
      ],
      "metadata": {
        "id": "sUtlvYHdeAN5"
      },
      "id": "sUtlvYHdeAN5"
    },
    {
      "cell_type": "markdown",
      "id": "50d273fd",
      "metadata": {
        "id": "50d273fd"
      },
      "source": [
        "What we're looking at in the first plot is the 2012 percent democratic vote, the second plot is the 2016 percent democratic vote, the third plot is the 2012 and 2016 percent democratic vote. In the fourth plot, we're looking at how per capital income (x axis) relates to % change in democratic vote. We want to establish a trendline in the fourth plot using linear regression, and determine of the slope in that trendline is statistically significant.\n",
        "\n",
        "### TASK 4: what are some features of this data that it look well-suited for linear regression? What are some features of this data that make it poorly suited for linear regression?\n",
        "\n"
      ]
    },
    {
      "cell_type": "markdown",
      "id": "0a5c2d8f",
      "metadata": {
        "id": "0a5c2d8f"
      },
      "source": [
        "## Do we have spatial autocorrelation in our data?\n",
        "When we're looking at distributions of voting preferences, remember that we're aggregating these numbers over arbitrary (er...political) geographic regions. \n",
        "\n",
        "Each column in that dataframe represents a data value summarized over a US county, but US counties have widely different land areas and populations:"
      ]
    },
    {
      "cell_type": "code",
      "execution_count": null,
      "id": "831bc6d0",
      "metadata": {
        "id": "831bc6d0"
      },
      "outputs": [],
      "source": [
        "f,ax = plt.subplots(1,2, figsize=(2*3*1.6, 2))\n",
        "sns.kdeplot(votes['ALAND'].values, shade=True, color='slategrey', ax=ax[0])\n",
        "ax[0].set_xlabel('County Land Area')\n",
        "\n",
        "sns.kdeplot(votes['PST045214'].values, shade=True, color='slategrey', ax=ax[1])\n",
        "ax[1].set_xlabel('2014 County Population')"
      ]
    },
    {
      "cell_type": "markdown",
      "id": "ded538fa",
      "metadata": {
        "id": "ded538fa"
      },
      "source": [
        "Our *spatial sampling rate* (by county) may not accurately represent the spatial frequency of variability in voting preferences and/or income. \n",
        "\n",
        "First, let's focus on the spatial componnet: the fact that these counties are different sizes. \n",
        "\n",
        "If we want to identify spatial autocorrelation in our data, we need to first understand how this spatial autocorrelation decays as a function of distance. \n",
        "\n",
        "To do this, we calculate the Moran's I statistic, which you can think of as the \"slope\" that we'd get when we regress data values for all geographic entities with data values that neighbor within a given distance. Lets look at our data in lat/lon space again:"
      ]
    },
    {
      "cell_type": "code",
      "execution_count": null,
      "id": "77391009",
      "metadata": {
        "id": "77391009"
      },
      "outputs": [],
      "source": [
        "votes.plot()"
      ]
    },
    {
      "cell_type": "code",
      "execution_count": null,
      "id": "74aec211",
      "metadata": {
        "id": "74aec211"
      },
      "outputs": [],
      "source": [
        "votes.crs"
      ]
    },
    {
      "cell_type": "markdown",
      "id": "0640f882",
      "metadata": {
        "id": "0640f882"
      },
      "source": [
        "### TASK 5: What is the horizontal unit (unit of distance) in our votes data?\n",
        "\n"
      ]
    },
    {
      "cell_type": "markdown",
      "id": "2359e7b5",
      "metadata": {
        "id": "2359e7b5"
      },
      "source": [
        "One issue is that we're sampling spatially at a distinct, and heterogenous, granulatiry. The smallest unit of measurement available in our dataset is the county level. Counties are different sizes. How can we evaluate whether this spatial sampling granularity is of sufficient resolution to capture the scale of variability in our dataset?\n",
        "\n",
        "* If we are sampling at too course of a spatial scale, we run the risk of missing key patterns of variability in our data (**UNDERSAMPLING**) \n",
        "\n",
        "* If we are sampling at too fine of a sptial scale, we run the risk of violating assumptions of independence between our individual observations (**OVERSAMPLING**)\n",
        "\n",
        "### TASK 6: In your own words, describe how the spatial sampling scale of \"county\" might represent and oversampling or undersampling of data as it relates to our question (did per capita income or land area impact change in voting preference\n",
        "\n"
      ]
    },
    {
      "cell_type": "markdown",
      "id": "b38ea33a",
      "metadata": {
        "id": "b38ea33a"
      },
      "source": [
        "## Calculating a weights matrix:\n",
        "The first thing we want to tackle is a quantification of any spatial autocorrelation in our dataset. Spatial autocorrelation inflates our theoretical number of samples (N), artificially increasing the power in our test statistics. In other words, when we're calculating test statistics, spatial autocorrelation in our data can make it seem like parameters that are unimportant are actually significant.\n",
        "\n",
        "Since we're dealing with a heterogeneous sampling grid in our data, the first thing we want to do is calculate a weights matrix.\n",
        "\n",
        "We're going to use the Queen function in pysal to do this. Full documentation here: https://pysal.org/libpysal/generated/libpysal.weights.Queen.html\n",
        "\n",
        "Or just use the built in help with the function below:"
      ]
    },
    {
      "cell_type": "code",
      "execution_count": null,
      "id": "6bdfe4f3",
      "metadata": {
        "id": "6bdfe4f3"
      },
      "outputs": [],
      "source": [
        "??Queen\n",
        "\n",
        "#Click the \"X\" in the upper right corner of that help window that pops up to close it."
      ]
    },
    {
      "cell_type": "code",
      "execution_count": null,
      "id": "d30c9e6f",
      "metadata": {
        "id": "d30c9e6f"
      },
      "outputs": [],
      "source": [
        "#Calculate weights object\n",
        "weights = Queen.from_dataframe(votes)\n",
        "\n",
        "#Use built in plot function to visualize how the weights matrix works\n",
        "plot_spatial_weights(weights, votes)\n",
        "plt.show()"
      ]
    },
    {
      "cell_type": "markdown",
      "id": "5f71de98",
      "metadata": {
        "id": "5f71de98"
      },
      "source": [
        "The verticies in this plot represent two things: \n",
        "* First, they link \"neigbors\" based on the model parameters we set for defining neighborhood (here we use the defaul settings and consider any contiguous polygons). \n",
        "* The length of the verticies indicates the distance between the centers of neighborhing cells. \n",
        "\n",
        "\"Neighbors\" that are father matter less than \"neighbors\" that are closer in identifying the strength of spatial autocorrelation.\n",
        "\n",
        "## Calculate Moran's I:\n",
        "Moran's I statistic quantifies the spatial autocorrelation in your data. From https://en.wikipedia.org/wiki/Moran%27s_I\n",
        ">\"Spatial dependency leads to the spatial autocorrelation problem in statistics since, like temporal autocorrelation, this violates standard statistical techniques that assume independence among observations. For example, regression analyses that do not compensate for spatial dependency can have unstable parameter estimates and yield unreliable significance tests. Spatial regression models (see below) capture these relationships and do not suffer from these weaknesses. It is also appropriate to view spatial dependency as a source of information rather than something to be corrected.\""
      ]
    },
    {
      "cell_type": "code",
      "execution_count": null,
      "id": "f5393d4e",
      "metadata": {
        "id": "f5393d4e"
      },
      "outputs": [],
      "source": [
        "# calculate Moran and plot\n",
        "moran_votes = Moran(votes['pct_dem_change'], w=weights)\n",
        "plot_moran(moran_votes, zstandard=True, figsize=(10,4))\n",
        "plt.show()"
      ]
    },
    {
      "cell_type": "code",
      "source": [
        "# calculate Moran and plot\n",
        "moran_land = Moran(votes['ALAND'], w=weights)\n",
        "plot_moran(moran_land, zstandard=True, figsize=(10,4))\n",
        "plt.show()"
      ],
      "metadata": {
        "id": "v1T9OJxOWkFQ"
      },
      "id": "v1T9OJxOWkFQ",
      "execution_count": null,
      "outputs": []
    },
    {
      "cell_type": "markdown",
      "id": "3d38a701",
      "metadata": {
        "id": "3d38a701"
      },
      "source": [
        "### TASK 6: Do we have statistically significant evidence (at alpha = 0.05) of spatial autocorrelation in our response variable (Percent change in democratic vote, or pct_pt_16)?\n",
        "Use code cell below as your \"calculator\". \n",
        "\n",
        "*"
      ]
    },
    {
      "cell_type": "code",
      "execution_count": null,
      "id": "25ba3cd4",
      "metadata": {
        "id": "25ba3cd4"
      },
      "outputs": [],
      "source": [
        "# What is the null hypothesis? Moran's I = 0\n",
        "# What is the alternative hypothesis? Moran's I does not equal zero\n",
        "# What is our test statistic? We can chose one of several test statistics, p-norm (p-value under normalization assumption), or p-rand (p-value under randomization)\n",
        "# How can we derive the test statistic from our \"moran\" object?\n",
        "# HINT\n",
        "print(moran_votes.p_norm)"
      ]
    },
    {
      "cell_type": "markdown",
      "id": "dedff477",
      "metadata": {
        "id": "dedff477"
      },
      "source": [
        "## Caluculate a linear regression on the global data:\n",
        "In this next step, we're going to calculate a linear regression in our data an determine whether that analysis determines a statistically significant relationship between our percent income and percent change in democratic vote."
      ]
    },
    {
      "cell_type": "code",
      "execution_count": null,
      "id": "cc5f4ba0",
      "metadata": {
        "id": "cc5f4ba0"
      },
      "outputs": [],
      "source": [
        "from mlxtend.preprocessing import standardize\n",
        "\n",
        "#extract variable that you want to use to \"predict\"\n",
        "X_raw = np.array(votes[['INC910213', 'ALAND']].values)\n",
        "X = standardize(X_raw, columns=[0, 1])\n",
        "\n",
        "#first, forumalate the model. See weather_trend.py in \"Git_101\" for a refresher on how.\n",
        "standardize(X, columns=[0, 1])\n",
        "\n",
        "#extract variable that we want to \"predict\"\n",
        "Y = np.array(votes['pct_dem_change'].values)\n",
        "# standardize them (calculate z-score) to help interpret coefficient magnitude\n",
        "#Y = (Y - Y.mean())/Y.std()\n",
        "Y= standardize(Y)\n",
        "\n",
        "lm = OLS(Y,X)\n",
        "lm_results = OLS(Y,X).fit().summary()"
      ]
    },
    {
      "cell_type": "code",
      "execution_count": null,
      "id": "823fea94",
      "metadata": {
        "id": "823fea94"
      },
      "outputs": [],
      "source": [
        "print(lm_results)"
      ]
    },
    {
      "cell_type": "markdown",
      "id": "3439ad1a",
      "metadata": {
        "id": "3439ad1a"
      },
      "source": [
        "### TASK 7: Do we have statistically significant evidence (at alpha = 0.05) of a statistically significant relationship between pct_dem_change and INC910213 and ALAND? How does INC910213 and ALAND impact pct_dem_change? Use numbers to back your claim.\n",
        "\n"
      ]
    },
    {
      "cell_type": "markdown",
      "id": "11690f15",
      "metadata": {
        "id": "11690f15"
      },
      "source": [
        "Now, let's plot our residuals to see if there are any spatial patterns in them.\n",
        "\n",
        "Remember residuals = predicted - fitted values"
      ]
    },
    {
      "cell_type": "code",
      "execution_count": null,
      "id": "96eae78c",
      "metadata": {
        "id": "96eae78c"
      },
      "outputs": [],
      "source": [
        "#Add model residuals to our \"votes\" geopandas dataframe:\n",
        "votes['lm_resid']=lm.fit().resid"
      ]
    },
    {
      "cell_type": "markdown",
      "id": "136dafbb",
      "metadata": {
        "id": "136dafbb"
      },
      "source": [
        "Remember, in OLS regression we depend out our residuals being normally distributed:"
      ]
    },
    {
      "cell_type": "code",
      "execution_count": null,
      "id": "0270685f",
      "metadata": {
        "id": "0270685f"
      },
      "outputs": [],
      "source": [
        "sns.kdeplot(votes['lm_resid'].values, shade=True, color='slategrey')\n",
        "ax[1].set_xlabel('OLS residuals')"
      ]
    },
    {
      "cell_type": "code",
      "execution_count": null,
      "id": "1448992a",
      "metadata": {
        "id": "1448992a"
      },
      "outputs": [],
      "source": [
        "#Plot them in space:\n",
        "votes.plot('lm_resid', linewidth=.05, cmap='RdBu')"
      ]
    },
    {
      "cell_type": "markdown",
      "id": "f73a181e",
      "metadata": {
        "id": "f73a181e"
      },
      "source": [
        "These are very not normal residuals. What's going on?\n",
        "\n",
        "### TASK 8: What does a positive residual mean here (the model overpredicted change in democratic vote, the model underpredicted change in democratic vote)?\n",
        "\n",
        "\n",
        "One way we can evaluate whether spatial autocorrelation has impacted our results is if we see spatial autocorrelation in the residuals:"
      ]
    },
    {
      "cell_type": "code",
      "execution_count": null,
      "id": "15a911ec",
      "metadata": {
        "id": "15a911ec"
      },
      "outputs": [],
      "source": [
        "# calculate Moran and plot\n",
        "moran = Moran(votes['lm_resid'], w=weights)\n",
        "plot_moran(moran, zstandard=True, figsize=(10,4))\n",
        "plt.show()"
      ]
    },
    {
      "cell_type": "markdown",
      "id": "9aba6557",
      "metadata": {
        "id": "9aba6557"
      },
      "source": [
        "### TASK 9: Do we have correlated residuals (use numbers to back your answer)?\n",
        "\n"
      ]
    },
    {
      "cell_type": "code",
      "execution_count": null,
      "id": "c6d7ccac",
      "metadata": {
        "id": "c6d7ccac"
      },
      "outputs": [],
      "source": [
        "f,ax = plt.subplots(1,3, figsize=(3*3*1.6, 2))\n",
        "\n",
        "votes[['INC910213','lm_resid']].plot.scatter('INC910213','lm_resid', ax=ax[0])\n",
        "ax[0].set_xlabel('county income')\n",
        "ax[0].set_ylabel('linear model residuals')\n",
        "\n",
        "votes[['ALAND','lm_resid']].plot.scatter('ALAND','lm_resid', ax=ax[1])\n",
        "ax[1].set_xlabel('county land area')\n",
        "ax[1].set_ylabel('linear model residuals')\n",
        "\n",
        "votes[['pct_dem_change','lm_resid']].plot.scatter('pct_dem_change','lm_resid', ax=ax[2])\n",
        "ax[2].set_xlabel('2012-2016 change in % democratic vote')\n",
        "ax[2].set_ylabel('linear model residuals')\n"
      ]
    },
    {
      "cell_type": "markdown",
      "id": "13e3f7df",
      "metadata": {
        "id": "13e3f7df"
      },
      "source": [
        "*The first two plots show heteroskedasticity in our residuals. The second plot shows bias in our model*"
      ]
    },
    {
      "cell_type": "markdown",
      "id": "98e86763",
      "metadata": {
        "id": "98e86763"
      },
      "source": [
        "\n",
        "## Autocovariate regression: spatial lag model\n",
        "Let's see if we can get different answers by accounting for our residuals in our model. First, we'll try a spatial lag model. A spatial lag model is a type of autocovariate model that assumes that dependencies exist directly among the levels of the dependent variable, and models them as an \"autocovariate\". So we create an autocovariate function that describes the degree to which the percent change in democratic vote at one location is affected by the percent change in democratic vote at the nearby locations. The coefficient and p-value for the autocovariate function are interpreted as for the independent variables."
      ]
    },
    {
      "cell_type": "code",
      "source": [
        "?spreg.ML_Lag"
      ],
      "metadata": {
        "id": "JIUjJWyDZlY3"
      },
      "id": "JIUjJWyDZlY3",
      "execution_count": null,
      "outputs": []
    },
    {
      "cell_type": "code",
      "execution_count": null,
      "id": "595a494f",
      "metadata": {
        "id": "595a494f"
      },
      "outputs": [],
      "source": [
        "Yl = Y.T\n",
        "Yl.shape = (len(Y),1)\n",
        "\n",
        "lag=spreg.ML_Lag(Yl, X, weights, name_x=[\"income\", \"area\"],name_y=\"vote\", name_w=\"weights\")\n",
        "print(lag.summary)\n"
      ]
    },
    {
      "cell_type": "code",
      "execution_count": null,
      "id": "04b3d5ab",
      "metadata": {
        "id": "04b3d5ab"
      },
      "outputs": [],
      "source": [
        "#Add model residuals to our \"votes\" geopandas dataframe:\n",
        "votes['slm_resid']=lag.u\n",
        "sns.kdeplot(votes['slm_resid'].values, shade=True, color='slategrey')\n",
        "ax[1].set_xlabel('SLM residuals')"
      ]
    },
    {
      "cell_type": "code",
      "execution_count": null,
      "id": "8876a6c6",
      "metadata": {
        "id": "8876a6c6"
      },
      "outputs": [],
      "source": [
        "# calculate Moran and plot\n",
        "moran = Moran(votes['slm_resid'], w=weights)\n",
        "plot_moran(moran, zstandard=True, figsize=(10,4))\n",
        "plt.show()"
      ]
    },
    {
      "cell_type": "code",
      "execution_count": null,
      "id": "702c34c3",
      "metadata": {
        "id": "702c34c3"
      },
      "outputs": [],
      "source": [
        "#Plot them in spac:\n",
        "votes.plot('slm_resid', linewidth=.05, cmap='RdBu')"
      ]
    },
    {
      "cell_type": "code",
      "execution_count": null,
      "id": "42cd97a7",
      "metadata": {
        "id": "42cd97a7"
      },
      "outputs": [],
      "source": [
        "# calculate Moran and plot\n",
        "moran = Moran(votes['slm_resid'], w=weights)\n",
        "plot_moran(moran, zstandard=True, figsize=(10,4))\n",
        "plt.show()"
      ]
    },
    {
      "cell_type": "code",
      "source": [
        "moran.p_norm"
      ],
      "metadata": {
        "id": "0bQtu0pOcZDf"
      },
      "id": "0bQtu0pOcZDf",
      "execution_count": null,
      "outputs": []
    },
    {
      "cell_type": "code",
      "execution_count": null,
      "id": "233ea54c",
      "metadata": {
        "id": "233ea54c"
      },
      "outputs": [],
      "source": [
        "f,ax = plt.subplots(1,3, figsize=(3*3*1.6, 2))\n",
        "\n",
        "votes[['INC910213','slm_resid']].plot.scatter('INC910213','slm_resid', ax=ax[0])\n",
        "ax[0].set_xlabel('Per capita income')\n",
        "ax[0].set_ylabel('spatial lag model residuals')\n",
        "\n",
        "votes[['ALAND','slm_resid']].plot.scatter('ALAND','slm_resid', ax=ax[1])\n",
        "ax[1].set_xlabel('county land area')\n",
        "ax[1].set_ylabel('spatial lag model residuals')\n",
        "\n",
        "votes[['pct_dem_change','slm_resid']].plot.scatter('pct_dem_change','slm_resid', ax=ax[2])\n",
        "ax[2].set_xlabel('2012-2016 change in % democratic vote')\n",
        "ax[2].set_ylabel('spatial lag model residuals')"
      ]
    },
    {
      "cell_type": "markdown",
      "id": "f740100c",
      "metadata": {
        "id": "f740100c"
      },
      "source": [
        "### TASK 10: When we account for spatial autocorrelation in our data using the spatial lag model, do we still see a significant relationship between our response and predictor variables? Do you think this is a valid approach? Why or why not?\n",
        "\n",
        "*Answer here*\n",
        "\n",
        "\n",
        "\n",
        "## Spatial autoregressive model (maximum likelihood spatial error model)\n",
        "Instead of modelling spatial dependence using an autocovariate, we use a similar type of weight structure (here called \"lambda\") to weight the error matrix:"
      ]
    },
    {
      "cell_type": "code",
      "execution_count": null,
      "id": "2fbc3417",
      "metadata": {
        "id": "2fbc3417"
      },
      "outputs": [],
      "source": [
        "MLerror = spreg.ML_Error(Yl, X, weights, name_x=[\"income\", \"area\"],name_y=\"vote\", name_w=\"weights\")\n",
        "print(MLerror.summary)"
      ]
    },
    {
      "cell_type": "code",
      "execution_count": null,
      "id": "5ed429bc",
      "metadata": {
        "id": "5ed429bc"
      },
      "outputs": [],
      "source": [
        "#Add model residuals to our \"votes\" geopandas dataframe:\n",
        "votes['mlError_resid']=MLerror.u\n",
        "sns.kdeplot(votes['mlError_resid'].values, shade=True, color='slategrey')\n",
        "ax[1].set_xlabel('MLError residuals')"
      ]
    },
    {
      "cell_type": "code",
      "execution_count": null,
      "id": "c3dfba75",
      "metadata": {
        "id": "c3dfba75"
      },
      "outputs": [],
      "source": [
        "#Plot them in spac:\n",
        "votes.plot('mlError_resid', linewidth=.05, cmap='RdBu')"
      ]
    },
    {
      "cell_type": "code",
      "execution_count": null,
      "id": "a25f7b38",
      "metadata": {
        "id": "a25f7b38"
      },
      "outputs": [],
      "source": [
        "# calculate Moran and plot\n",
        "moran = Moran(votes['mlError_resid'], w=weights)\n",
        "plot_moran(moran, zstandard=True, figsize=(10,4))\n",
        "plt.show()"
      ]
    },
    {
      "cell_type": "code",
      "source": [
        "moran.p_norm"
      ],
      "metadata": {
        "id": "aVXZ2xNTcU1w"
      },
      "id": "aVXZ2xNTcU1w",
      "execution_count": null,
      "outputs": []
    },
    {
      "cell_type": "code",
      "execution_count": null,
      "id": "d088382c",
      "metadata": {
        "id": "d088382c"
      },
      "outputs": [],
      "source": [
        "f,ax = plt.subplots(1,3, figsize=(3*3*1.6, 2))\n",
        "\n",
        "votes[['INC910213','mlError_resid']].plot.scatter('INC910213','mlError_resid', ax=ax[0])\n",
        "ax[0].set_xlabel('Per capita income')\n",
        "ax[0].set_ylabel('autoregressive model residuals')\n",
        "\n",
        "votes[['ALAND','mlError_resid']].plot.scatter('ALAND','mlError_resid', ax=ax[1])\n",
        "ax[1].set_xlabel('county land area')\n",
        "ax[1].set_ylabel('autoregressive model residuals')\n",
        "\n",
        "votes[['pct_dem_change','mlError_resid']].plot.scatter('pct_dem_change','mlError_resid', ax=ax[2])\n",
        "ax[2].set_xlabel('2012-2016 change in % democratic vote')\n",
        "ax[2].set_ylabel('autoregressive model residuals')"
      ]
    },
    {
      "cell_type": "markdown",
      "id": "3106dc34",
      "metadata": {
        "id": "3106dc34"
      },
      "source": [
        "### TASK 11: Given these three models, do you believe that there is a linear relationship between percent change in democratic vote and income level? What about between change in democratic vote and land area? Why or why not?\n",
        "\n"
      ]
    },
    {
      "cell_type": "code",
      "source": [],
      "metadata": {
        "id": "0twXdq9acNqo"
      },
      "id": "0twXdq9acNqo",
      "execution_count": null,
      "outputs": []
    }
  ],
  "metadata": {
    "kernelspec": {
      "display_name": "geostats_env",
      "language": "python",
      "name": "geostats_env"
    },
    "language_info": {
      "codemirror_mode": {
        "name": "ipython",
        "version": 3
      },
      "file_extension": ".py",
      "mimetype": "text/x-python",
      "name": "python",
      "nbconvert_exporter": "python",
      "pygments_lexer": "ipython3",
      "version": "3.7.11"
    },
    "colab": {
      "provenance": [],
      "include_colab_link": true
    }
  },
  "nbformat": 4,
  "nbformat_minor": 5
}