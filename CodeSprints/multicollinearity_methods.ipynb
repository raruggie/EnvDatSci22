{
  "cells": [
    {
      "cell_type": "markdown",
      "metadata": {
        "id": "view-in-github",
        "colab_type": "text"
      },
      "source": [
        "<a href=\"https://colab.research.google.com/github/raruggie/EnvDatSci22/blob/master/CodeSprints/multicollinearity_methods.ipynb\" target=\"_parent\"><img src=\"https://colab.research.google.com/assets/colab-badge.svg\" alt=\"Open In Colab\"/></a>"
      ]
    },
    {
      "cell_type": "markdown",
      "id": "204733d1",
      "metadata": {
        "id": "204733d1"
      },
      "source": [
        "## Multicollinearity and Regression Analysis\n",
        "In this tutorial, we will be using a spatial dataset of county-level election and demographic statistics for the United States. This time, we'll explore different methods to diagnose and account for multicollinearity in our data. Specifically, we'll calculate variance inflation factor (VIF), and compare parameter estimates and model fit in a multivariate regression predicting 2016 county voting preferences using an OLS model, a ridge regression, a lasso regression, and an elastic net regression.\n",
        "\n",
        "Objectives:\n",
        "* ***Calculate a variance inflation factor to diagnose multicollinearity.***\n",
        "* ***Use geographicall weighted regression to identify if the multicollinearity is scale dependent.***\n",
        "* ***Interpret model summary statistics.***\n",
        "* ***Describe how multicollinearity impacts stability in parameter esimates.***\n",
        "* ***Explain the variance/bias tradeoff and describe how to use it to improve models***\n",
        "* ***Draw a conclusion based on contrasting models.***\n",
        "\n",
        "Review: \n",
        "* [Dormann, C. et al. (2013). Collinearity: a review of methods to deal with it and a simulation study evaluating their performance. Ecography, 36(1), 27-46.](https://onlinelibrary.wiley.com/doi/full/10.1111/j.1600-0587.2012.07348.x)\n"
      ]
    },
    {
      "cell_type": "code",
      "source": [
        "%%capture\n",
        "!pip install geopandas\n",
        "!pip install libpysal"
      ],
      "metadata": {
        "id": "frf-WQMKb1Dj"
      },
      "id": "frf-WQMKb1Dj",
      "execution_count": 1,
      "outputs": []
    },
    {
      "cell_type": "code",
      "execution_count": 2,
      "id": "bf668f40",
      "metadata": {
        "id": "bf668f40"
      },
      "outputs": [],
      "source": [
        "import numpy as np\n",
        "import geopandas as gpd\n",
        "import pandas as pd\n",
        "import matplotlib.pyplot as plt\n",
        "import seaborn as sns\n",
        "import statsmodels.api as sm\n",
        "from statsmodels.stats.outliers_influence import variance_inflation_factor\n",
        "from sklearn.model_selection import cross_val_score\n",
        "from sklearn.model_selection import RepeatedKFold\n",
        "from sklearn.linear_model import Ridge\n",
        "from sklearn.linear_model import Lasso\n",
        "from sklearn.linear_model import ElasticNet\n",
        "from numpy import mean\n",
        "from numpy import std\n",
        "from numpy import absolute\n",
        "from libpysal.weights.contiguity import Queen\n",
        "import libpysal\n",
        "from statsmodels.api import OLS\n",
        "sns.set_style('white')"
      ]
    },
    {
      "cell_type": "markdown",
      "id": "daec4204",
      "metadata": {
        "id": "daec4204"
      },
      "source": [
        "First, we're going to load the 'Elections' dataset from the libpysal library, which is a very easy to use API that accesses the Geodata Center at the University of Chicago.\n",
        "\n",
        "* More on spatial data science resources from UC: https://spatial.uchicago.edu/\n",
        "* A list of datasets available through lipysal: https://geodacenter.github.io/data-and-lab//"
      ]
    },
    {
      "cell_type": "code",
      "execution_count": 3,
      "id": "9de38c04",
      "metadata": {
        "colab": {
          "base_uri": "https://localhost:8080/"
        },
        "id": "9de38c04",
        "outputId": "f7e713bc-0ada-459d-a1ef-a655a4fc33fb"
      },
      "outputs": [
        {
          "output_type": "stream",
          "name": "stdout",
          "text": [
            "Example not available: Elections\n",
            "Downloading AirBnB to /root/.local/share/pysal/AirBnB\n",
            "Downloading Atlanta to /root/.local/share/pysal/Atlanta\n",
            "Downloading Baltimore to /root/.local/share/pysal/Baltimore\n",
            "Downloading Bostonhsg to /root/.local/share/pysal/Bostonhsg\n",
            "Downloading Buenosaires to /root/.local/share/pysal/Buenosaires\n",
            "Downloading Charleston1 to /root/.local/share/pysal/Charleston1\n",
            "Downloading Charleston2 to /root/.local/share/pysal/Charleston2\n",
            "Downloading Chicago Health to /root/.local/share/pysal/Chicago_Health\n",
            "Downloading Chicago commpop to /root/.local/share/pysal/Chicago_commpop\n",
            "Example not downloaded: Chicago parcels\n",
            "Downloading Chile Labor to /root/.local/share/pysal/Chile_Labor\n",
            "Example not downloaded: Chile Migration\n",
            "Downloading Cincinnati to /root/.local/share/pysal/Cincinnati\n",
            "Downloading Cleveland to /root/.local/share/pysal/Cleveland\n",
            "Downloading Columbus to /root/.local/share/pysal/Columbus\n",
            "Downloading Elections to /root/.local/share/pysal/Elections\n",
            "Downloading Grid100 to /root/.local/share/pysal/Grid100\n",
            "Downloading Groceries to /root/.local/share/pysal/Groceries\n",
            "Downloading Guerry to /root/.local/share/pysal/Guerry\n",
            "Downloading Health Indicators to /root/.local/share/pysal/Health_Indicators\n",
            "Downloading Health+ to /root/.local/share/pysal/Health+\n",
            "Downloading Hickory1 to /root/.local/share/pysal/Hickory1\n",
            "Downloading Hickory2 to /root/.local/share/pysal/Hickory2\n",
            "Downloading Home Sales to /root/.local/share/pysal/Home_Sales\n",
            "Downloading Houston to /root/.local/share/pysal/Houston\n",
            "Downloading Juvenile to /root/.local/share/pysal/Juvenile\n",
            "Downloading Lansing1 to /root/.local/share/pysal/Lansing1\n",
            "Downloading Lansing2 to /root/.local/share/pysal/Lansing2\n",
            "Downloading Laozone to /root/.local/share/pysal/Laozone\n",
            "Downloading LasRosas to /root/.local/share/pysal/LasRosas\n",
            "Downloading Liquor Stores to /root/.local/share/pysal/Liquor_Stores\n",
            "Downloading Malaria to /root/.local/share/pysal/Malaria\n",
            "Downloading Milwaukee1 to /root/.local/share/pysal/Milwaukee1\n",
            "Downloading Milwaukee2 to /root/.local/share/pysal/Milwaukee2\n",
            "Downloading NCOVR to /root/.local/share/pysal/NCOVR\n",
            "Downloading NDVI to /root/.local/share/pysal/NDVI\n",
            "Downloading NYC to /root/.local/share/pysal/NYC\n",
            "Downloading NYC Earnings to /root/.local/share/pysal/NYC_Earnings\n",
            "Downloading NYC Education to /root/.local/share/pysal/NYC_Education\n",
            "Downloading NYC Neighborhoods to /root/.local/share/pysal/NYC_Neighborhoods\n",
            "Downloading NYC Socio-Demographics to /root/.local/share/pysal/NYC_Socio-Demographics\n",
            "Downloading Natregimes to /root/.local/share/pysal/Natregimes\n",
            "Downloading Nepal to /root/.local/share/pysal/Nepal\n",
            "Downloading Ohiolung to /root/.local/share/pysal/Ohiolung\n",
            "Downloading Orlando1 to /root/.local/share/pysal/Orlando1\n",
            "Downloading Orlando2 to /root/.local/share/pysal/Orlando2\n",
            "Downloading Oz9799 to /root/.local/share/pysal/Oz9799\n",
            "Downloading Phoenix ACS to /root/.local/share/pysal/Phoenix_ACS\n",
            "Downloading Pittsburgh to /root/.local/share/pysal/Pittsburgh\n",
            "Downloading Police to /root/.local/share/pysal/Police\n",
            "Downloading Rio Grande do Sul to /root/.local/share/pysal/Rio_Grande_do_Sul\n",
            "Downloading SIDS to /root/.local/share/pysal/SIDS\n",
            "Downloading SIDS2 to /root/.local/share/pysal/SIDS2\n",
            "Downloading Sacramento1 to /root/.local/share/pysal/Sacramento1\n",
            "Downloading Sacramento2 to /root/.local/share/pysal/Sacramento2\n",
            "Downloading SanFran Crime to /root/.local/share/pysal/SanFran_Crime\n",
            "Downloading Savannah1 to /root/.local/share/pysal/Savannah1\n",
            "Downloading Savannah2 to /root/.local/share/pysal/Savannah2\n",
            "Downloading Scotlip to /root/.local/share/pysal/Scotlip\n",
            "Downloading Seattle1 to /root/.local/share/pysal/Seattle1\n",
            "Downloading Seattle2 to /root/.local/share/pysal/Seattle2\n",
            "Downloading Snow to /root/.local/share/pysal/Snow\n",
            "Downloading South to /root/.local/share/pysal/South\n",
            "Example not downloaded: Spirals\n",
            "Downloading StLouis to /root/.local/share/pysal/StLouis\n",
            "Downloading Tampa1 to /root/.local/share/pysal/Tampa1\n",
            "Downloading US SDOH to /root/.local/share/pysal/US_SDOH\n",
            "Downloading clearwater to /root/.local/share/pysal/clearwater\n",
            "Downloading newHaven to /root/.local/share/pysal/newHaven\n",
            "Downloading nyc_bikes to /root/.local/share/pysal/nyc_bikes\n",
            "Downloading taz to /root/.local/share/pysal/taz\n"
          ]
        }
      ],
      "source": [
        "from libpysal.examples import load_example\n",
        "elections = load_example('Elections')\n",
        "#note the folder where your data now lives:\n"
      ]
    },
    {
      "cell_type": "code",
      "execution_count": 4,
      "id": "8c7fe6d5",
      "metadata": {
        "colab": {
          "base_uri": "https://localhost:8080/"
        },
        "id": "8c7fe6d5",
        "outputId": "6fede874-58f6-4ef0-cbea-264e70a98e36"
      },
      "outputs": [
        {
          "output_type": "execute_result",
          "data": {
            "text/plain": [
              "['/root/.local/share/pysal/Elections/__MACOSX/election/._election.shp',\n",
              " '/root/.local/share/pysal/Elections/election/election.dbf',\n",
              " '/root/.local/share/pysal/Elections/election/election.shx',\n",
              " '/root/.local/share/pysal/Elections/election/election.shp',\n",
              " '/root/.local/share/pysal/Elections/election/election.prj']"
            ]
          },
          "metadata": {},
          "execution_count": 4
        }
      ],
      "source": [
        "#First, let's see what files are available in the 'Elections' data example\n",
        "elections.get_file_list()"
      ]
    },
    {
      "cell_type": "markdown",
      "id": "d92c29a3",
      "metadata": {
        "id": "d92c29a3"
      },
      "source": [
        "When you are out in the world doing research, you often will not find a ready-made function to download your data. That's okay! You know how to get this dataset without using pysal! Do a quick internal review of online data formats and automatic data downloads.\n",
        "\n",
        "### TASK 1: Use urllib functions to download this file directly from the internet to a folder. Extract the zipped file you've downloaded into a subfolder called elections."
      ]
    },
    {
      "cell_type": "code",
      "execution_count": 5,
      "id": "1318b96b",
      "metadata": {
        "id": "1318b96b",
        "colab": {
          "base_uri": "https://localhost:8080/"
        },
        "outputId": "c35d4977-cf86-43fb-b4ba-0bf103859e9f"
      },
      "outputs": [
        {
          "output_type": "stream",
          "name": "stdout",
          "text": [
            "Archive:  elections.zip\n",
            "   creating: election/\n",
            "  inflating: election/election.prj   \n",
            "  inflating: election/election.shx   \n",
            "  inflating: election/election.shp   \n",
            "   creating: __MACOSX/\n",
            "   creating: __MACOSX/election/\n",
            "  inflating: __MACOSX/election/._election.shp  \n",
            "  inflating: election/election.dbf   \n"
          ]
        }
      ],
      "source": [
        "# Task 1 code here:\n",
        "#import required function:\n",
        "import urllib.request\n",
        "\n",
        "#define online filepath (aka url):\n",
        "url = 'https://geodacenter.github.io/data-and-lab//data/election.zip'\n",
        "\n",
        "#define local filepath:\n",
        "local = 'elections.zip'\n",
        "\n",
        "#download elections data:\n",
        "urllib.request.urlretrieve(url,local)\n",
        "\n",
        "#unzip file: see if google can help you figure this one out!\n",
        "!unzip elections.zip"
      ]
    },
    {
      "cell_type": "markdown",
      "id": "ea133475",
      "metadata": {
        "id": "ea133475"
      },
      "source": [
        "### TASK 2: Use geopandas to read in this shapefile. Call your geopandas.DataFrame \"votes\""
      ]
    },
    {
      "cell_type": "code",
      "execution_count": 6,
      "id": "81455057",
      "metadata": {
        "id": "81455057",
        "colab": {
          "base_uri": "https://localhost:8080/",
          "height": 330
        },
        "outputId": "01c47621-932d-474d-c990-387c739fae1b"
      },
      "outputs": [
        {
          "output_type": "execute_result",
          "data": {
            "text/plain": [
              "  STATEFP COUNTYFP  GEOID         ALAND      AWATER       area_name  \\\n",
              "0      01      005  01005  2.291821e+09  50864677.0  Barbour County   \n",
              "1      01      023  01023  2.365955e+09  19059247.0  Choctaw County   \n",
              "2      01      035  01035  2.201896e+09   6643480.0  Conecuh County   \n",
              "3      01      051  01051  1.601877e+09  99850740.0   Elmore County   \n",
              "4      01      065  01065  1.667805e+09  32525874.0     Hale County   \n",
              "\n",
              "  state_abbr  PST045214  PST040210  PST120214  ...  total_2012  Demvotes12  \\\n",
              "0         AL    26887.0    27457.0       -2.1  ...     11459.0      5873.0   \n",
              "1         AL    13323.0    13858.0       -3.9  ...      7965.0      3785.0   \n",
              "2         AL    12670.0    13228.0       -4.2  ...      7013.0      3551.0   \n",
              "3         AL    80977.0    79296.0        2.1  ...     35440.0      8940.0   \n",
              "4         AL    15184.0    15760.0       -3.7  ...      8628.0      5401.0   \n",
              "\n",
              "   GOPvotes12  county_fip  state_fips  pct_dem_12  pct_gop_12  diff_2012  \\\n",
              "0      5539.0         5.0         1.0    0.512523    0.483376      334.0   \n",
              "1      4150.0        23.0         1.0    0.475204    0.521030      365.0   \n",
              "2      3434.0        35.0         1.0    0.506345    0.489662      117.0   \n",
              "3     26223.0        51.0         1.0    0.252257    0.739927    17283.0   \n",
              "4      3205.0        65.0         1.0    0.625985    0.371465     2196.0   \n",
              "\n",
              "   pct_pt_12                                           geometry  \n",
              "0   0.029147  POLYGON ((-85.748 31.619, -85.745 31.619, -85....  \n",
              "1  -0.045825  POLYGON ((-88.473 31.894, -88.469 31.930, -88....  \n",
              "2   0.016683  POLYGON ((-87.427 31.264, -87.426 31.268, -87....  \n",
              "3  -0.487669  POLYGON ((-86.413 32.751, -86.371 32.751, -86....  \n",
              "4   0.254520  POLYGON ((-87.870 32.762, -87.868 32.766, -87....  \n",
              "\n",
              "[5 rows x 75 columns]"
            ],
            "text/html": [
              "\n",
              "  <div id=\"df-25543036-9c74-4e70-acac-f22c7ad7ce2f\">\n",
              "    <div class=\"colab-df-container\">\n",
              "      <div>\n",
              "<style scoped>\n",
              "    .dataframe tbody tr th:only-of-type {\n",
              "        vertical-align: middle;\n",
              "    }\n",
              "\n",
              "    .dataframe tbody tr th {\n",
              "        vertical-align: top;\n",
              "    }\n",
              "\n",
              "    .dataframe thead th {\n",
              "        text-align: right;\n",
              "    }\n",
              "</style>\n",
              "<table border=\"1\" class=\"dataframe\">\n",
              "  <thead>\n",
              "    <tr style=\"text-align: right;\">\n",
              "      <th></th>\n",
              "      <th>STATEFP</th>\n",
              "      <th>COUNTYFP</th>\n",
              "      <th>GEOID</th>\n",
              "      <th>ALAND</th>\n",
              "      <th>AWATER</th>\n",
              "      <th>area_name</th>\n",
              "      <th>state_abbr</th>\n",
              "      <th>PST045214</th>\n",
              "      <th>PST040210</th>\n",
              "      <th>PST120214</th>\n",
              "      <th>...</th>\n",
              "      <th>total_2012</th>\n",
              "      <th>Demvotes12</th>\n",
              "      <th>GOPvotes12</th>\n",
              "      <th>county_fip</th>\n",
              "      <th>state_fips</th>\n",
              "      <th>pct_dem_12</th>\n",
              "      <th>pct_gop_12</th>\n",
              "      <th>diff_2012</th>\n",
              "      <th>pct_pt_12</th>\n",
              "      <th>geometry</th>\n",
              "    </tr>\n",
              "  </thead>\n",
              "  <tbody>\n",
              "    <tr>\n",
              "      <th>0</th>\n",
              "      <td>01</td>\n",
              "      <td>005</td>\n",
              "      <td>01005</td>\n",
              "      <td>2.291821e+09</td>\n",
              "      <td>50864677.0</td>\n",
              "      <td>Barbour County</td>\n",
              "      <td>AL</td>\n",
              "      <td>26887.0</td>\n",
              "      <td>27457.0</td>\n",
              "      <td>-2.1</td>\n",
              "      <td>...</td>\n",
              "      <td>11459.0</td>\n",
              "      <td>5873.0</td>\n",
              "      <td>5539.0</td>\n",
              "      <td>5.0</td>\n",
              "      <td>1.0</td>\n",
              "      <td>0.512523</td>\n",
              "      <td>0.483376</td>\n",
              "      <td>334.0</td>\n",
              "      <td>0.029147</td>\n",
              "      <td>POLYGON ((-85.748 31.619, -85.745 31.619, -85....</td>\n",
              "    </tr>\n",
              "    <tr>\n",
              "      <th>1</th>\n",
              "      <td>01</td>\n",
              "      <td>023</td>\n",
              "      <td>01023</td>\n",
              "      <td>2.365955e+09</td>\n",
              "      <td>19059247.0</td>\n",
              "      <td>Choctaw County</td>\n",
              "      <td>AL</td>\n",
              "      <td>13323.0</td>\n",
              "      <td>13858.0</td>\n",
              "      <td>-3.9</td>\n",
              "      <td>...</td>\n",
              "      <td>7965.0</td>\n",
              "      <td>3785.0</td>\n",
              "      <td>4150.0</td>\n",
              "      <td>23.0</td>\n",
              "      <td>1.0</td>\n",
              "      <td>0.475204</td>\n",
              "      <td>0.521030</td>\n",
              "      <td>365.0</td>\n",
              "      <td>-0.045825</td>\n",
              "      <td>POLYGON ((-88.473 31.894, -88.469 31.930, -88....</td>\n",
              "    </tr>\n",
              "    <tr>\n",
              "      <th>2</th>\n",
              "      <td>01</td>\n",
              "      <td>035</td>\n",
              "      <td>01035</td>\n",
              "      <td>2.201896e+09</td>\n",
              "      <td>6643480.0</td>\n",
              "      <td>Conecuh County</td>\n",
              "      <td>AL</td>\n",
              "      <td>12670.0</td>\n",
              "      <td>13228.0</td>\n",
              "      <td>-4.2</td>\n",
              "      <td>...</td>\n",
              "      <td>7013.0</td>\n",
              "      <td>3551.0</td>\n",
              "      <td>3434.0</td>\n",
              "      <td>35.0</td>\n",
              "      <td>1.0</td>\n",
              "      <td>0.506345</td>\n",
              "      <td>0.489662</td>\n",
              "      <td>117.0</td>\n",
              "      <td>0.016683</td>\n",
              "      <td>POLYGON ((-87.427 31.264, -87.426 31.268, -87....</td>\n",
              "    </tr>\n",
              "    <tr>\n",
              "      <th>3</th>\n",
              "      <td>01</td>\n",
              "      <td>051</td>\n",
              "      <td>01051</td>\n",
              "      <td>1.601877e+09</td>\n",
              "      <td>99850740.0</td>\n",
              "      <td>Elmore County</td>\n",
              "      <td>AL</td>\n",
              "      <td>80977.0</td>\n",
              "      <td>79296.0</td>\n",
              "      <td>2.1</td>\n",
              "      <td>...</td>\n",
              "      <td>35440.0</td>\n",
              "      <td>8940.0</td>\n",
              "      <td>26223.0</td>\n",
              "      <td>51.0</td>\n",
              "      <td>1.0</td>\n",
              "      <td>0.252257</td>\n",
              "      <td>0.739927</td>\n",
              "      <td>17283.0</td>\n",
              "      <td>-0.487669</td>\n",
              "      <td>POLYGON ((-86.413 32.751, -86.371 32.751, -86....</td>\n",
              "    </tr>\n",
              "    <tr>\n",
              "      <th>4</th>\n",
              "      <td>01</td>\n",
              "      <td>065</td>\n",
              "      <td>01065</td>\n",
              "      <td>1.667805e+09</td>\n",
              "      <td>32525874.0</td>\n",
              "      <td>Hale County</td>\n",
              "      <td>AL</td>\n",
              "      <td>15184.0</td>\n",
              "      <td>15760.0</td>\n",
              "      <td>-3.7</td>\n",
              "      <td>...</td>\n",
              "      <td>8628.0</td>\n",
              "      <td>5401.0</td>\n",
              "      <td>3205.0</td>\n",
              "      <td>65.0</td>\n",
              "      <td>1.0</td>\n",
              "      <td>0.625985</td>\n",
              "      <td>0.371465</td>\n",
              "      <td>2196.0</td>\n",
              "      <td>0.254520</td>\n",
              "      <td>POLYGON ((-87.870 32.762, -87.868 32.766, -87....</td>\n",
              "    </tr>\n",
              "  </tbody>\n",
              "</table>\n",
              "<p>5 rows × 75 columns</p>\n",
              "</div>\n",
              "      <button class=\"colab-df-convert\" onclick=\"convertToInteractive('df-25543036-9c74-4e70-acac-f22c7ad7ce2f')\"\n",
              "              title=\"Convert this dataframe to an interactive table.\"\n",
              "              style=\"display:none;\">\n",
              "        \n",
              "  <svg xmlns=\"http://www.w3.org/2000/svg\" height=\"24px\"viewBox=\"0 0 24 24\"\n",
              "       width=\"24px\">\n",
              "    <path d=\"M0 0h24v24H0V0z\" fill=\"none\"/>\n",
              "    <path d=\"M18.56 5.44l.94 2.06.94-2.06 2.06-.94-2.06-.94-.94-2.06-.94 2.06-2.06.94zm-11 1L8.5 8.5l.94-2.06 2.06-.94-2.06-.94L8.5 2.5l-.94 2.06-2.06.94zm10 10l.94 2.06.94-2.06 2.06-.94-2.06-.94-.94-2.06-.94 2.06-2.06.94z\"/><path d=\"M17.41 7.96l-1.37-1.37c-.4-.4-.92-.59-1.43-.59-.52 0-1.04.2-1.43.59L10.3 9.45l-7.72 7.72c-.78.78-.78 2.05 0 2.83L4 21.41c.39.39.9.59 1.41.59.51 0 1.02-.2 1.41-.59l7.78-7.78 2.81-2.81c.8-.78.8-2.07 0-2.86zM5.41 20L4 18.59l7.72-7.72 1.47 1.35L5.41 20z\"/>\n",
              "  </svg>\n",
              "      </button>\n",
              "      \n",
              "  <style>\n",
              "    .colab-df-container {\n",
              "      display:flex;\n",
              "      flex-wrap:wrap;\n",
              "      gap: 12px;\n",
              "    }\n",
              "\n",
              "    .colab-df-convert {\n",
              "      background-color: #E8F0FE;\n",
              "      border: none;\n",
              "      border-radius: 50%;\n",
              "      cursor: pointer;\n",
              "      display: none;\n",
              "      fill: #1967D2;\n",
              "      height: 32px;\n",
              "      padding: 0 0 0 0;\n",
              "      width: 32px;\n",
              "    }\n",
              "\n",
              "    .colab-df-convert:hover {\n",
              "      background-color: #E2EBFA;\n",
              "      box-shadow: 0px 1px 2px rgba(60, 64, 67, 0.3), 0px 1px 3px 1px rgba(60, 64, 67, 0.15);\n",
              "      fill: #174EA6;\n",
              "    }\n",
              "\n",
              "    [theme=dark] .colab-df-convert {\n",
              "      background-color: #3B4455;\n",
              "      fill: #D2E3FC;\n",
              "    }\n",
              "\n",
              "    [theme=dark] .colab-df-convert:hover {\n",
              "      background-color: #434B5C;\n",
              "      box-shadow: 0px 1px 3px 1px rgba(0, 0, 0, 0.15);\n",
              "      filter: drop-shadow(0px 1px 2px rgba(0, 0, 0, 0.3));\n",
              "      fill: #FFFFFF;\n",
              "    }\n",
              "  </style>\n",
              "\n",
              "      <script>\n",
              "        const buttonEl =\n",
              "          document.querySelector('#df-25543036-9c74-4e70-acac-f22c7ad7ce2f button.colab-df-convert');\n",
              "        buttonEl.style.display =\n",
              "          google.colab.kernel.accessAllowed ? 'block' : 'none';\n",
              "\n",
              "        async function convertToInteractive(key) {\n",
              "          const element = document.querySelector('#df-25543036-9c74-4e70-acac-f22c7ad7ce2f');\n",
              "          const dataTable =\n",
              "            await google.colab.kernel.invokeFunction('convertToInteractive',\n",
              "                                                     [key], {});\n",
              "          if (!dataTable) return;\n",
              "\n",
              "          const docLinkHtml = 'Like what you see? Visit the ' +\n",
              "            '<a target=\"_blank\" href=https://colab.research.google.com/notebooks/data_table.ipynb>data table notebook</a>'\n",
              "            + ' to learn more about interactive tables.';\n",
              "          element.innerHTML = '';\n",
              "          dataTable['output_type'] = 'display_data';\n",
              "          await google.colab.output.renderOutput(dataTable, element);\n",
              "          const docLink = document.createElement('div');\n",
              "          docLink.innerHTML = docLinkHtml;\n",
              "          element.appendChild(docLink);\n",
              "        }\n",
              "      </script>\n",
              "    </div>\n",
              "  </div>\n",
              "  "
            ]
          },
          "metadata": {},
          "execution_count": 6
        },
        {
          "output_type": "stream",
          "name": "stdout",
          "text": [
            "Warning: Total number of columns (75) exceeds max_columns (20) limiting to first (20) columns.\n"
          ]
        }
      ],
      "source": [
        "# TASK 2: Use geopandas to read in this shapefile. Call your geopandas.DataFrame \"votes\"\n",
        "import os\n",
        "#name the filepath relative to your working directory: note this is operating system agnostic\n",
        "votes_path = os.path.join(\"/content\", \"election\", \"election.shp\")\n",
        "\n",
        "#use geopandas as gpd to \"read_file\"\n",
        "votes = gpd.read_file(votes_path)\n",
        "\n",
        "votes.head()"
      ]
    },
    {
      "cell_type": "markdown",
      "id": "c603c7b4",
      "metadata": {
        "id": "c603c7b4"
      },
      "source": [
        "### EXTRA CREDIT TASK (+2pts): use os to delete the elections data downloaded by pysal that you are no longer using."
      ]
    },
    {
      "cell_type": "code",
      "execution_count": 28,
      "id": "ea9d8bef",
      "metadata": {
        "id": "ea9d8bef",
        "outputId": "3d4e891e-a091-4657-8999-5c8a8fcffdb1",
        "colab": {
          "base_uri": "https://localhost:8080/",
          "height": 183
        }
      },
      "outputs": [
        {
          "output_type": "error",
          "ename": "FileNotFoundError",
          "evalue": "ignored",
          "traceback": [
            "\u001b[0;31m---------------------------------------------------------------------------\u001b[0m",
            "\u001b[0;31mFileNotFoundError\u001b[0m                         Traceback (most recent call last)",
            "\u001b[0;32m<ipython-input-28-44c3b3d1ca8e>\u001b[0m in \u001b[0;36m<module>\u001b[0;34m\u001b[0m\n\u001b[1;32m      1\u001b[0m \u001b[0;31m# Extra credit\u001b[0m\u001b[0;34m\u001b[0m\u001b[0;34m\u001b[0m\u001b[0;34m\u001b[0m\u001b[0m\n\u001b[0;32m----> 2\u001b[0;31m \u001b[0mos\u001b[0m\u001b[0;34m.\u001b[0m\u001b[0mlistdir\u001b[0m\u001b[0;34m(\u001b[0m\u001b[0;34m'root'\u001b[0m\u001b[0;34m)\u001b[0m\u001b[0;34m\u001b[0m\u001b[0;34m\u001b[0m\u001b[0m\n\u001b[0m",
            "\u001b[0;31mFileNotFoundError\u001b[0m: [Errno 2] No such file or directory: 'root'"
          ]
        }
      ],
      "source": [
        "# Extra credit\n",
        "os.listdir('root')"
      ]
    },
    {
      "cell_type": "code",
      "execution_count": 29,
      "id": "8ae67e1e",
      "metadata": {
        "id": "8ae67e1e",
        "outputId": "addc99ac-1de5-4216-f93d-74cd7d92c37f",
        "colab": {
          "base_uri": "https://localhost:8080/",
          "height": 210
        }
      },
      "outputs": [
        {
          "output_type": "execute_result",
          "data": {
            "text/plain": [
              "<matplotlib.axes._subplots.AxesSubplot at 0x7f545e63ff50>"
            ]
          },
          "metadata": {},
          "execution_count": 29
        },
        {
          "output_type": "display_data",
          "data": {
            "text/plain": [
              "<Figure size 432x288 with 1 Axes>"
            ],
            "image/png": "[encoded data removed]"
          },
          "metadata": {
            "needs_background": "light"
          }
        }
      ],
      "source": [
        "#Let's view the shapefile to get a general idea of the geometry we're looking at:\n",
        "%matplotlib inline\n",
        "votes.plot()"
      ]
    },
    {
      "cell_type": "code",
      "execution_count": 30,
      "id": "7495565e",
      "metadata": {
        "id": "7495565e",
        "outputId": "dda106ce-3ae6-4972-f984-752b66e33ea9",
        "colab": {
          "base_uri": "https://localhost:8080/",
          "height": 733
        }
      },
      "outputs": [
        {
          "output_type": "execute_result",
          "data": {
            "text/plain": [
              "  STATEFP COUNTYFP  GEOID         ALAND      AWATER       area_name  \\\n",
              "0      01      005  01005  2.291821e+09  50864677.0  Barbour County   \n",
              "1      01      023  01023  2.365955e+09  19059247.0  Choctaw County   \n",
              "2      01      035  01035  2.201896e+09   6643480.0  Conecuh County   \n",
              "3      01      051  01051  1.601877e+09  99850740.0   Elmore County   \n",
              "4      01      065  01065  1.667805e+09  32525874.0     Hale County   \n",
              "\n",
              "  state_abbr  PST045214  PST040210  PST120214  ...  total_2012  Demvotes12  \\\n",
              "0         AL    26887.0    27457.0       -2.1  ...     11459.0      5873.0   \n",
              "1         AL    13323.0    13858.0       -3.9  ...      7965.0      3785.0   \n",
              "2         AL    12670.0    13228.0       -4.2  ...      7013.0      3551.0   \n",
              "3         AL    80977.0    79296.0        2.1  ...     35440.0      8940.0   \n",
              "4         AL    15184.0    15760.0       -3.7  ...      8628.0      5401.0   \n",
              "\n",
              "   GOPvotes12  county_fip  state_fips  pct_dem_12  pct_gop_12  diff_2012  \\\n",
              "0      5539.0         5.0         1.0    0.512523    0.483376      334.0   \n",
              "1      4150.0        23.0         1.0    0.475204    0.521030      365.0   \n",
              "2      3434.0        35.0         1.0    0.506345    0.489662      117.0   \n",
              "3     26223.0        51.0         1.0    0.252257    0.739927    17283.0   \n",
              "4      3205.0        65.0         1.0    0.625985    0.371465     2196.0   \n",
              "\n",
              "   pct_pt_12                                           geometry  \n",
              "0   0.029147  POLYGON ((-85.748 31.619, -85.745 31.619, -85....  \n",
              "1  -0.045825  POLYGON ((-88.473 31.894, -88.469 31.930, -88....  \n",
              "2   0.016683  POLYGON ((-87.427 31.264, -87.426 31.268, -87....  \n",
              "3  -0.487669  POLYGON ((-86.413 32.751, -86.371 32.751, -86....  \n",
              "4   0.254520  POLYGON ((-87.870 32.762, -87.868 32.766, -87....  \n",
              "\n",
              "[5 rows x 75 columns]"
            ],
            "text/html": [
              "\n",
              "  <div id=\"df-5f7df630-183e-4da6-bf88-bf3adc931bcb\">\n",
              "    <div class=\"colab-df-container\">\n",
              "      <div>\n",
              "<style scoped>\n",
              "    .dataframe tbody tr th:only-of-type {\n",
              "        vertical-align: middle;\n",
              "    }\n",
              "\n",
              "    .dataframe tbody tr th {\n",
              "        vertical-align: top;\n",
              "    }\n",
              "\n",
              "    .dataframe thead th {\n",
              "        text-align: right;\n",
              "    }\n",
              "</style>\n",
              "<table border=\"1\" class=\"dataframe\">\n",
              "  <thead>\n",
              "    <tr style=\"text-align: right;\">\n",
              "      <th></th>\n",
              "      <th>STATEFP</th>\n",
              "      <th>COUNTYFP</th>\n",
              "      <th>GEOID</th>\n",
              "      <th>ALAND</th>\n",
              "      <th>AWATER</th>\n",
              "      <th>area_name</th>\n",
              "      <th>state_abbr</th>\n",
              "      <th>PST045214</th>\n",
              "      <th>PST040210</th>\n",
              "      <th>PST120214</th>\n",
              "      <th>...</th>\n",
              "      <th>total_2012</th>\n",
              "      <th>Demvotes12</th>\n",
              "      <th>GOPvotes12</th>\n",
              "      <th>county_fip</th>\n",
              "      <th>state_fips</th>\n",
              "      <th>pct_dem_12</th>\n",
              "      <th>pct_gop_12</th>\n",
              "      <th>diff_2012</th>\n",
              "      <th>pct_pt_12</th>\n",
              "      <th>geometry</th>\n",
              "    </tr>\n",
              "  </thead>\n",
              "  <tbody>\n",
              "    <tr>\n",
              "      <th>0</th>\n",
              "      <td>01</td>\n",
              "      <td>005</td>\n",
              "      <td>01005</td>\n",
              "      <td>2.291821e+09</td>\n",
              "      <td>50864677.0</td>\n",
              "      <td>Barbour County</td>\n",
              "      <td>AL</td>\n",
              "      <td>26887.0</td>\n",
              "      <td>27457.0</td>\n",
              "      <td>-2.1</td>\n",
              "      <td>...</td>\n",
              "      <td>11459.0</td>\n",
              "      <td>5873.0</td>\n",
              "      <td>5539.0</td>\n",
              "      <td>5.0</td>\n",
              "      <td>1.0</td>\n",
              "      <td>0.512523</td>\n",
              "      <td>0.483376</td>\n",
              "      <td>334.0</td>\n",
              "      <td>0.029147</td>\n",
              "      <td>POLYGON ((-85.748 31.619, -85.745 31.619, -85....</td>\n",
              "    </tr>\n",
              "    <tr>\n",
              "      <th>1</th>\n",
              "      <td>01</td>\n",
              "      <td>023</td>\n",
              "      <td>01023</td>\n",
              "      <td>2.365955e+09</td>\n",
              "      <td>19059247.0</td>\n",
              "      <td>Choctaw County</td>\n",
              "      <td>AL</td>\n",
              "      <td>13323.0</td>\n",
              "      <td>13858.0</td>\n",
              "      <td>-3.9</td>\n",
              "      <td>...</td>\n",
              "      <td>7965.0</td>\n",
              "      <td>3785.0</td>\n",
              "      <td>4150.0</td>\n",
              "      <td>23.0</td>\n",
              "      <td>1.0</td>\n",
              "      <td>0.475204</td>\n",
              "      <td>0.521030</td>\n",
              "      <td>365.0</td>\n",
              "      <td>-0.045825</td>\n",
              "      <td>POLYGON ((-88.473 31.894, -88.469 31.930, -88....</td>\n",
              "    </tr>\n",
              "    <tr>\n",
              "      <th>2</th>\n",
              "      <td>01</td>\n",
              "      <td>035</td>\n",
              "      <td>01035</td>\n",
              "      <td>2.201896e+09</td>\n",
              "      <td>6643480.0</td>\n",
              "      <td>Conecuh County</td>\n",
              "      <td>AL</td>\n",
              "      <td>12670.0</td>\n",
              "      <td>13228.0</td>\n",
              "      <td>-4.2</td>\n",
              "      <td>...</td>\n",
              "      <td>7013.0</td>\n",
              "      <td>3551.0</td>\n",
              "      <td>3434.0</td>\n",
              "      <td>35.0</td>\n",
              "      <td>1.0</td>\n",
              "      <td>0.506345</td>\n",
              "      <td>0.489662</td>\n",
              "      <td>117.0</td>\n",
              "      <td>0.016683</td>\n",
              "      <td>POLYGON ((-87.427 31.264, -87.426 31.268, -87....</td>\n",
              "    </tr>\n",
              "    <tr>\n",
              "      <th>3</th>\n",
              "      <td>01</td>\n",
              "      <td>051</td>\n",
              "      <td>01051</td>\n",
              "      <td>1.601877e+09</td>\n",
              "      <td>99850740.0</td>\n",
              "      <td>Elmore County</td>\n",
              "      <td>AL</td>\n",
              "      <td>80977.0</td>\n",
              "      <td>79296.0</td>\n",
              "      <td>2.1</td>\n",
              "      <td>...</td>\n",
              "      <td>35440.0</td>\n",
              "      <td>8940.0</td>\n",
              "      <td>26223.0</td>\n",
              "      <td>51.0</td>\n",
              "      <td>1.0</td>\n",
              "      <td>0.252257</td>\n",
              "      <td>0.739927</td>\n",
              "      <td>17283.0</td>\n",
              "      <td>-0.487669</td>\n",
              "      <td>POLYGON ((-86.413 32.751, -86.371 32.751, -86....</td>\n",
              "    </tr>\n",
              "    <tr>\n",
              "      <th>4</th>\n",
              "      <td>01</td>\n",
              "      <td>065</td>\n",
              "      <td>01065</td>\n",
              "      <td>1.667805e+09</td>\n",
              "      <td>32525874.0</td>\n",
              "      <td>Hale County</td>\n",
              "      <td>AL</td>\n",
              "      <td>15184.0</td>\n",
              "      <td>15760.0</td>\n",
              "      <td>-3.7</td>\n",
              "      <td>...</td>\n",
              "      <td>8628.0</td>\n",
              "      <td>5401.0</td>\n",
              "      <td>3205.0</td>\n",
              "      <td>65.0</td>\n",
              "      <td>1.0</td>\n",
              "      <td>0.625985</td>\n",
              "      <td>0.371465</td>\n",
              "      <td>2196.0</td>\n",
              "      <td>0.254520</td>\n",
              "      <td>POLYGON ((-87.870 32.762, -87.868 32.766, -87....</td>\n",
              "    </tr>\n",
              "  </tbody>\n",
              "</table>\n",
              "<p>5 rows × 75 columns</p>\n",
              "</div>\n",
              "      <button class=\"colab-df-convert\" onclick=\"convertToInteractive('df-5f7df630-183e-4da6-bf88-bf3adc931bcb')\"\n",
              "              title=\"Convert this dataframe to an interactive table.\"\n",
              "              style=\"display:none;\">\n",
              "        \n",
              "  <svg xmlns=\"http://www.w3.org/2000/svg\" height=\"24px\"viewBox=\"0 0 24 24\"\n",
              "       width=\"24px\">\n",
              "    <path d=\"M0 0h24v24H0V0z\" fill=\"none\"/>\n",
              "    <path d=\"M18.56 5.44l.94 2.06.94-2.06 2.06-.94-2.06-.94-.94-2.06-.94 2.06-2.06.94zm-11 1L8.5 8.5l.94-2.06 2.06-.94-2.06-.94L8.5 2.5l-.94 2.06-2.06.94zm10 10l.94 2.06.94-2.06 2.06-.94-2.06-.94-.94-2.06-.94 2.06-2.06.94z\"/><path d=\"M17.41 7.96l-1.37-1.37c-.4-.4-.92-.59-1.43-.59-.52 0-1.04.2-1.43.59L10.3 9.45l-7.72 7.72c-.78.78-.78 2.05 0 2.83L4 21.41c.39.39.9.59 1.41.59.51 0 1.02-.2 1.41-.59l7.78-7.78 2.81-2.81c.8-.78.8-2.07 0-2.86zM5.41 20L4 18.59l7.72-7.72 1.47 1.35L5.41 20z\"/>\n",
              "  </svg>\n",
              "      </button>\n",
              "      \n",
              "  <style>\n",
              "    .colab-df-container {\n",
              "      display:flex;\n",
              "      flex-wrap:wrap;\n",
              "      gap: 12px;\n",
              "    }\n",
              "\n",
              "    .colab-df-convert {\n",
              "      background-color: #E8F0FE;\n",
              "      border: none;\n",
              "      border-radius: 50%;\n",
              "      cursor: pointer;\n",
              "      display: none;\n",
              "      fill: #1967D2;\n",
              "      height: 32px;\n",
              "      padding: 0 0 0 0;\n",
              "      width: 32px;\n",
              "    }\n",
              "\n",
              "    .colab-df-convert:hover {\n",
              "      background-color: #E2EBFA;\n",
              "      box-shadow: 0px 1px 2px rgba(60, 64, 67, 0.3), 0px 1px 3px 1px rgba(60, 64, 67, 0.15);\n",
              "      fill: #174EA6;\n",
              "    }\n",
              "\n",
              "    [theme=dark] .colab-df-convert {\n",
              "      background-color: #3B4455;\n",
              "      fill: #D2E3FC;\n",
              "    }\n",
              "\n",
              "    [theme=dark] .colab-df-convert:hover {\n",
              "      background-color: #434B5C;\n",
              "      box-shadow: 0px 1px 3px 1px rgba(0, 0, 0, 0.15);\n",
              "      filter: drop-shadow(0px 1px 2px rgba(0, 0, 0, 0.3));\n",
              "      fill: #FFFFFF;\n",
              "    }\n",
              "  </style>\n",
              "\n",
              "      <script>\n",
              "        const buttonEl =\n",
              "          document.querySelector('#df-5f7df630-183e-4da6-bf88-bf3adc931bcb button.colab-df-convert');\n",
              "        buttonEl.style.display =\n",
              "          google.colab.kernel.accessAllowed ? 'block' : 'none';\n",
              "\n",
              "        async function convertToInteractive(key) {\n",
              "          const element = document.querySelector('#df-5f7df630-183e-4da6-bf88-bf3adc931bcb');\n",
              "          const dataTable =\n",
              "            await google.colab.kernel.invokeFunction('convertToInteractive',\n",
              "                                                     [key], {});\n",
              "          if (!dataTable) return;\n",
              "\n",
              "          const docLinkHtml = 'Like what you see? Visit the ' +\n",
              "            '<a target=\"_blank\" href=https://colab.research.google.com/notebooks/data_table.ipynb>data table notebook</a>'\n",
              "            + ' to learn more about interactive tables.';\n",
              "          element.innerHTML = '';\n",
              "          dataTable['output_type'] = 'display_data';\n",
              "          await google.colab.output.renderOutput(dataTable, element);\n",
              "          const docLink = document.createElement('div');\n",
              "          docLink.innerHTML = docLinkHtml;\n",
              "          element.appendChild(docLink);\n",
              "        }\n",
              "      </script>\n",
              "    </div>\n",
              "  </div>\n",
              "  "
            ]
          },
          "metadata": {},
          "execution_count": 30
        }
      ],
      "source": [
        "#View the first few line]s of the dataset\n",
        "votes.head()"
      ]
    },
    {
      "cell_type": "code",
      "execution_count": 31,
      "id": "813ad89f",
      "metadata": {
        "id": "813ad89f",
        "outputId": "68a5898e-66ea-4223-e1bb-1b6b66dc2ade",
        "colab": {
          "base_uri": "https://localhost:8080/"
        }
      },
      "outputs": [
        {
          "output_type": "stream",
          "name": "stdout",
          "text": [
            "STATEFP\n",
            "COUNTYFP\n",
            "GEOID\n",
            "ALAND\n",
            "AWATER\n",
            "area_name\n",
            "state_abbr\n",
            "PST045214\n",
            "PST040210\n",
            "PST120214\n",
            "POP010210\n",
            "AGE135214\n",
            "AGE295214\n",
            "AGE775214\n",
            "SEX255214\n",
            "RHI125214\n",
            "RHI225214\n",
            "RHI325214\n",
            "RHI425214\n",
            "RHI525214\n",
            "RHI625214\n",
            "RHI725214\n",
            "RHI825214\n",
            "POP715213\n",
            "POP645213\n",
            "POP815213\n",
            "EDU635213\n",
            "EDU685213\n",
            "VET605213\n",
            "LFE305213\n",
            "HSG010214\n",
            "HSG445213\n",
            "HSG096213\n",
            "HSG495213\n",
            "HSD410213\n",
            "HSD310213\n",
            "INC910213\n",
            "INC110213\n",
            "PVY020213\n",
            "BZA010213\n",
            "BZA110213\n",
            "BZA115213\n",
            "NES010213\n",
            "SBO001207\n",
            "SBO315207\n",
            "SBO115207\n",
            "SBO215207\n",
            "SBO515207\n",
            "SBO415207\n",
            "SBO015207\n",
            "MAN450207\n",
            "WTN220207\n",
            "RTN130207\n",
            "RTN131207\n",
            "AFN120207\n",
            "BPS030214\n",
            "LND110210\n",
            "POP060210\n",
            "Demvotes16\n",
            "GOPvotes16\n",
            "total_2016\n",
            "pct_dem_16\n",
            "pct_gop_16\n",
            "diff_2016\n",
            "pct_pt_16\n",
            "total_2012\n",
            "Demvotes12\n",
            "GOPvotes12\n",
            "county_fip\n",
            "state_fips\n",
            "pct_dem_12\n",
            "pct_gop_12\n",
            "diff_2012\n",
            "pct_pt_12\n",
            "geometry\n"
          ]
        }
      ],
      "source": [
        "#Since there are too many columns for us to view on a signle page using \"head\", we can just print out the column names so we have them all listed for reference\n",
        "for col in votes.columns: \n",
        "    print(col) "
      ]
    },
    {
      "cell_type": "markdown",
      "id": "aa277c42",
      "metadata": {
        "id": "aa277c42"
      },
      "source": [
        "#### You can use pandas summary statistics to get an idea of how county-level data varies across the United States. \n",
        "### TASK 3: For example, how did the county mean percent Democratic vote change between 2012 (pct_dem_12) and 2016 (pct_dem_16)?\n",
        "\n",
        "Look here for more info on pandas summary statistics:https://www.earthdatascience.org/courses/intro-to-earth-data-science/scientific-data-structures-python/pandas-dataframes/run-calculations-summary-statistics-pandas-dataframes/"
      ]
    },
    {
      "cell_type": "code",
      "execution_count": 36,
      "id": "818f70e5",
      "metadata": {
        "id": "818f70e5",
        "outputId": "7976bc95-4c4d-4bca-f4c1-93ad71072005",
        "colab": {
          "base_uri": "https://localhost:8080/"
        }
      },
      "outputs": [
        {
          "output_type": "stream",
          "name": "stdout",
          "text": [
            "0.384501897042471 0.31666743004440157\n",
            "it went down by 0.07 %\n"
          ]
        }
      ],
      "source": [
        "#Task 3\n",
        "# print(np.mean(votes.pct_dem_12), np.mean(votes.pct_dem_16))\n",
        "print('it went down by', round(np.mean(votes.pct_dem_12) - np.mean(votes.pct_dem_16),2), '%')\n",
        "\n"
      ]
    },
    {
      "cell_type": "markdown",
      "id": "1b0f15a0",
      "metadata": {
        "id": "1b0f15a0"
      },
      "source": [
        "We can also plot histograms of the data. Below, smoothed histograms from the seaborn package (imported as sns) let us get an idea of the distribution of percent democratic votes in 2012 (left) and 2016 (right)."
      ]
    },
    {
      "cell_type": "code",
      "execution_count": null,
      "id": "57df83a8",
      "metadata": {
        "id": "57df83a8"
      },
      "outputs": [],
      "source": [
        "# Plot histograms:\n",
        "f,ax = plt.subplots(1,2, figsize=(2*3*1.6, 2))\n",
        "for i,col in enumerate(['pct_dem_12','pct_dem_16']):\n",
        "    sns.kdeplot(votes[col].values, shade=True, color='slategrey', ax=ax[i])\n",
        "    ax[i].set_title(col.split('_')[1])"
      ]
    },
    {
      "cell_type": "code",
      "execution_count": null,
      "id": "7c314d64",
      "metadata": {
        "id": "7c314d64"
      },
      "outputs": [],
      "source": [
        "# Plot spatial distribution of # dem vote in 2012 and 2016 with histogram.\n",
        "f,ax = plt.subplots(2,2, figsize=(1.6*6 + 1,2.4*3), gridspec_kw=dict(width_ratios=(6,1)))\n",
        "for i,col in enumerate(['pct_dem_12','pct_dem_16']):\n",
        "    votes.plot(col, linewidth=.05, cmap='RdBu', ax=ax[i,0])\n",
        "    ax[i,0].set_title(['2012','2016'][i] + \"% democratic vote\")\n",
        "    ax[i,0].set_xticklabels('')\n",
        "    ax[i,0].set_yticklabels('')\n",
        "    sns.kdeplot(votes[col].values, ax=ax[i,1], vertical=True, shade=True, color='slategrey')\n",
        "    ax[i,1].set_xticklabels('')\n",
        "    ax[i,1].set_ylim(-1,1)\n",
        "f.tight_layout()\n",
        "plt.show()"
      ]
    },
    {
      "cell_type": "markdown",
      "id": "e6d6ec1f",
      "metadata": {
        "id": "e6d6ec1f"
      },
      "source": [
        "### TASK 4: Make a new column on your geopandas dataframe called \"pct_dem_change\" and plot it using the syntax above. Explain the plot."
      ]
    },
    {
      "cell_type": "code",
      "execution_count": null,
      "id": "e68ce3ef",
      "metadata": {
        "id": "e68ce3ef"
      },
      "outputs": [],
      "source": [
        "# Task 4: add new column pct_dem_change to votes:\n"
      ]
    },
    {
      "cell_type": "code",
      "execution_count": null,
      "id": "c5c7a89d",
      "metadata": {
        "id": "c5c7a89d"
      },
      "outputs": [],
      "source": [
        "#Task 4: plot your pct_dem_change variable on a map:\n"
      ]
    },
    {
      "cell_type": "markdown",
      "id": "946cb5c6",
      "metadata": {
        "id": "946cb5c6"
      },
      "source": [
        "Click on this url to learn more about the variables in this dataset: https://geodacenter.github.io/data-and-lab//county_election_2012_2016-variables/\n",
        "As you can see, there are a lot of data values available in this dataset. Let's say we want to learn more about what county-level factors influence percent change in democratic vote between (pct_dem_change).\n",
        "\n",
        "Looking at the data description on the link above, you see that this is an exceptionally large dataset with many variables. During lecture, we discussed how there are two types of multicollinearity in our data:\n",
        "\n",
        "* *Intrinsic multicollinearity:* is an artifact of how we make observations. Often our measurements serve as proxies for some latent process (for example, we can measure percent silt, percent sand, and percent clay as proxies for the latent variable of soil texture). There will be slight variability in the information content between each proxy measurement, but they will not be independent of one another.\n",
        "\n",
        "* *Incidental collinearity:* is an artifact of how we sample complex populations. If we collect data from a subsample of the landscape where we don't see all combinations of our predictor variables (do not have good cross replication across our variables). We often induce collinearity in our data just because we are limitted in our ability to sample the environment at the scale of temporal/spatial variability of our process of interest. Incidental collinearity is a model formulation problem.(See here for more info on how to avoid it: https://people.umass.edu/sdestef/NRC%20601/StudyDesignConcepts.pdf)"
      ]
    },
    {
      "cell_type": "markdown",
      "id": "da5b59ac",
      "metadata": {
        "id": "da5b59ac"
      },
      "source": [
        "### TASK 5: Looking at the data description, pick two variables that you believe will be intrinsically multicollinear. List and describe these variables. Why do you think they will be collinear? Is this an example of *intrinsic* or *incidental* collinearity?\n",
        "\n",
        "*Click on this box to enter text*\n",
        "I chose:   \n",
        "* \"RHI125214\", #White alone, percent, 2014\n",
        "* \"RHI225214\", #Black or African American alone, percent, 2014\n",
        "These variables are intrinsically multicollinear. A decrease in one of a finite number of races implicitly signifies an increase in another race."
      ]
    },
    {
      "cell_type": "markdown",
      "id": "18207d3e",
      "metadata": {
        "id": "18207d3e"
      },
      "source": [
        "## Multivariate regression in observational data:\n",
        "Our next step is to formulate our predictive/diagnostic model. We want to create a subset of the \"votes\" geopandas data frame that contains ten predictor variables and our response variable (pct_pt_16) two variables you selected under TASK 1. First, create a list of the variables you'd like to select.\n",
        "\n",
        "### TASK 6: Create a subset of votes called \"my_list\" containing only your selected predictor variables. Make sure you use the two variables selected under TASK 3, and eight additional variables"
      ]
    },
    {
      "cell_type": "code",
      "execution_count": null,
      "id": "65d4c6cb",
      "metadata": {
        "id": "65d4c6cb"
      },
      "outputs": [],
      "source": [
        "# Task 4: create a subset of votes called \"my list\" with all your subset variables.\n",
        "#my_list = [\"pct_pt_16\", <list your variables here>]      "
      ]
    },
    {
      "cell_type": "code",
      "execution_count": null,
      "id": "f1835a8d",
      "metadata": {
        "id": "f1835a8d"
      },
      "outputs": [],
      "source": [
        "#check to make sure all your columns are there:\n",
        "votes[my_list].head()"
      ]
    },
    {
      "cell_type": "markdown",
      "id": "d28d9dc4",
      "metadata": {
        "id": "d28d9dc4"
      },
      "source": [
        "### Scatterplot matrix\n",
        "We call the process of getting to know your data (ranges and distributions of the data, as well as any relationships between variables) \"exploratory data analysis\". Pairwise plots of your variables, called scatterplots, can provide a lot of insight into the type of relationships you have between variables. A scatterplot matrix is a pairwise comparison of all variables in your dataset."
      ]
    },
    {
      "cell_type": "code",
      "execution_count": null,
      "id": "f3f67ff6",
      "metadata": {
        "id": "f3f67ff6"
      },
      "outputs": [],
      "source": [
        "#Use seaborn.pairplot to plot a scatterplot matrix of you 10 variable subset:\n",
        "sns.pairplot(votes[my_list])"
      ]
    },
    {
      "cell_type": "markdown",
      "id": "e7b1b309",
      "metadata": {
        "id": "e7b1b309"
      },
      "source": [
        "### TASK 7: Do you observe any collinearity in this dataset? How would you describe the relationship between your two \"incidentally collinear\" variables that you selected based on looking at variable descriptions? \n",
        "\n",
        "*Type answer here*\n",
        "\n",
        "\n",
        "### TASK 8: What is plotted on the diagonal panels of the scatterplot matrix?\n",
        "\n",
        "*Type answer here*\n"
      ]
    },
    {
      "cell_type": "markdown",
      "id": "89b42b91",
      "metadata": {
        "id": "89b42b91"
      },
      "source": [
        "## Diagnosing collinearity globally:\n",
        "During class, we discussed the Variance Inflation Factor, which describes the magnitude of variance inflation that can be expected in an OLS parameter estimate for a given variable *given pairwise collinearity between that variable and another variable*. "
      ]
    },
    {
      "cell_type": "code",
      "execution_count": null,
      "id": "9be64d7b",
      "metadata": {
        "id": "9be64d7b"
      },
      "outputs": [],
      "source": [
        "#VIF = 1/(1-R2) of a pairwise OLS regression between two predictor variables\n",
        "#We can use a built-in function \"variance_inflation_factor\" from statsmodel.api to calculate VIF\n",
        "#Learn more about the function\n",
        "?variance_inflation_factor"
      ]
    },
    {
      "cell_type": "code",
      "execution_count": null,
      "id": "a53f51dc",
      "metadata": {
        "id": "a53f51dc"
      },
      "outputs": [],
      "source": [
        "#Calculate VIFs on our dataset\n",
        "vif = pd.DataFrame()\n",
        "vif[\"VIF Factor\"] = [variance_inflation_factor(votes[my_list[1:11]].values, i) for i in range(votes[my_list[1:11]].shape[1])]\n",
        "vif[\"features\"] = votes[my_list[1:11]].columns\n"
      ]
    },
    {
      "cell_type": "code",
      "execution_count": null,
      "id": "d465f95f",
      "metadata": {
        "id": "d465f95f"
      },
      "outputs": [],
      "source": [
        "vif.round()"
      ]
    },
    {
      "cell_type": "markdown",
      "id": "ae322791",
      "metadata": {
        "id": "ae322791"
      },
      "source": [
        "### Collinearity is always present in observational data. When is it a problem?\n",
        "Generally speaking, VIF > 10 are considered \"too much\" collinearity. But this value is somewhat arbitrary: the extent to which variance inflation will impact your analysis is highly context dependent. There are two primary contexts where variance inflation is problematic:\n",
        "\n",
        " 1\\. **You are using your analysis to evaluate variable importance:** If you are using parameter estimates from your model to diagnose which observations have physically important relationships with your response variable, variance inflation can make an important predictor look unimportant, and parameter estimates will be highly leveraged by small changes in the data. \n",
        "\n",
        " 2\\. **You want to use your model to make predictions in a situation where the specific structure of collinearity between variables may have shifted:** When training a model on collinear data, the model only applies to data with that exact structure of collinearity."
      ]
    },
    {
      "cell_type": "markdown",
      "id": "f8a7a711",
      "metadata": {
        "id": "f8a7a711"
      },
      "source": [
        "### Caluculate a linear regression on the global data:\n",
        "In this next step, we're going to calculate a linear regression in our data an determine whether there is a statistically significant relationship between per capita income and percent change in democratic vote."
      ]
    },
    {
      "cell_type": "code",
      "execution_count": null,
      "id": "515911da",
      "metadata": {
        "id": "515911da"
      },
      "outputs": [],
      "source": [
        "#first, forumalate the model. See weather_trend.py in \"Git_101\" for a refresher on how.\n",
        "\n",
        "#extract variable that you want to use to \"predict\"\n",
        "X = np.array(votes[my_list[1:11]].values)\n",
        "#standardize data to assist in interpretation of coefficients\n",
        "X = (X - np.mean(X, axis=0)) / np.std(X, axis=0)\n",
        "\n",
        "#extract variable that we want to \"predict\"\n",
        "Y = np.array(votes['pct_dem_change'].values)\n",
        "#standardize data to assist in interpretation of coefficients\n",
        "Y = (Y - np.mean(X)) / np.std(Y)\n",
        "\n",
        "lm = OLS(Y,X)\n",
        "lm_results = OLS(Y,X).fit().summary()"
      ]
    },
    {
      "cell_type": "code",
      "execution_count": null,
      "id": "68a265a8",
      "metadata": {
        "id": "68a265a8"
      },
      "outputs": [],
      "source": [
        "print(lm_results)"
      ]
    },
    {
      "cell_type": "markdown",
      "id": "d760fd73",
      "metadata": {
        "id": "d760fd73"
      },
      "source": [
        "### TASK 9: Answer: which coefficients indicate a statisticall significant relationship between parameter and pct_dem_change? What is your most important predictor variable? How can you tell?\n",
        "\n",
        "*Type answer here*\n"
      ]
    },
    {
      "cell_type": "markdown",
      "id": "1202f4f3",
      "metadata": {
        "id": "1202f4f3"
      },
      "source": [
        "### TASK10:  Are any of these parameters subject to variance inflation? How can you tell?\n",
        "\n",
        "*Type answer here*\n"
      ]
    },
    {
      "cell_type": "markdown",
      "id": "c25a9235",
      "metadata": {
        "id": "c25a9235"
      },
      "source": [
        "Now, let's plot our residuals to see if there are any spatial patterns in them.\n",
        "\n",
        "Remember residuals = predicted - fitted values"
      ]
    },
    {
      "cell_type": "code",
      "execution_count": null,
      "id": "0098b6ee",
      "metadata": {
        "id": "0098b6ee"
      },
      "outputs": [],
      "source": [
        "#Add model residuals to our \"votes\" geopandas dataframe:\n",
        "votes['lm_resid']=OLS(Y,X).fit().resid\n"
      ]
    },
    {
      "cell_type": "code",
      "source": [
        "#Add model coefficients to you \"vif\" geopandas dataframe:\n",
        "vif['OLS_coef']=OLS(Y,X).fit().params"
      ],
      "metadata": {
        "id": "24gVnBhp82O0"
      },
      "id": "24gVnBhp82O0",
      "execution_count": null,
      "outputs": []
    },
    {
      "cell_type": "code",
      "execution_count": null,
      "id": "a439b312",
      "metadata": {
        "id": "a439b312"
      },
      "outputs": [],
      "source": [
        "#Plot histogram of model residuals\n",
        "sns.kdeplot(votes['lm_resid'].values, shade=True, color='slategrey')\n"
      ]
    },
    {
      "cell_type": "markdown",
      "id": "0bc83f6a",
      "metadata": {
        "id": "0bc83f6a"
      },
      "source": [
        "### TASK 11: Are our residuals normally distributed with a mean of zero? What does that mean?\n",
        "\n",
        "*Type answer here*\n"
      ]
    },
    {
      "cell_type": "markdown",
      "id": "66f59dce",
      "metadata": {
        "id": "66f59dce"
      },
      "source": [
        "## Penalized regression: ridge penalty\n",
        "In penalized regression, we intentionally bias the parameter estimates to stabilize them given collinearity in the dataset.\n",
        "\n",
        "From https://www.analyticsvidhya.com/blog/2016/01/ridge-lasso-regression-python-complete-tutorial/\n",
        "\"As mentioned before, ridge regression performs ‘L2 regularization‘, i.e. it adds a factor of sum of squares of coefficients in the optimization objective. Thus, ridge regression optimizes the following:\n",
        "\n",
        "**Objective = RSS + α * (sum of square of coefficients)**\n",
        "\n",
        "Here, α (alpha) is the parameter which balances the amount of emphasis given to minimizing RSS vs minimizing sum of square of coefficients. α can take various values:\n",
        "\n",
        "* **α = 0:** The objective becomes same as simple linear regression. We’ll get the same coefficients as simple linear regression.\n",
        "\n",
        "* **α = ∞:** The coefficients will approach zero. Why? Because of infinite weightage on square of coefficients, anything less than zero will make the objective infinite.\n",
        "\n",
        "* **0 < α < ∞:** The magnitude of α will decide the weightage given to different parts of objective. The coefficients will be somewhere between 0 and ones for simple linear regression.\"\n",
        "\n",
        "In other words, the ridge penalty shrinks coefficients such that collinear coefficients will have more similar coefficient values. It has a \"grouping\" tendency."
      ]
    },
    {
      "cell_type": "code",
      "execution_count": null,
      "id": "cebcc4a3",
      "metadata": {
        "id": "cebcc4a3"
      },
      "outputs": [],
      "source": [
        "# when L2=0, Ridge equals OLS\n",
        "model = Ridge(alpha=1)"
      ]
    },
    {
      "cell_type": "code",
      "execution_count": null,
      "id": "60b4d30d",
      "metadata": {
        "id": "60b4d30d"
      },
      "outputs": [],
      "source": [
        "# define model evaluation method\n",
        "cv = RepeatedKFold(n_splits=10, n_repeats=3, random_state=1)\n",
        "# evaluate model\n",
        "scores = cross_val_score(model, X, Y, scoring='neg_mean_absolute_error', cv=cv, n_jobs=-1)\n",
        "#force scores to be positive\n",
        "scores = absolute(scores)\n",
        "print('Mean MAE: %.3f (%.3f)' % (mean(scores), std(scores)))"
      ]
    },
    {
      "cell_type": "code",
      "execution_count": null,
      "id": "c68402c6",
      "metadata": {
        "id": "c68402c6"
      },
      "outputs": [],
      "source": [
        "model.fit(X,Y)\n",
        "#Print out the model coefficients\n",
        "print(model.coef_)\n",
        "vif['Ridge_coef']=model.coef_"
      ]
    },
    {
      "cell_type": "markdown",
      "source": [
        "### Hyperparameter tuning\n",
        "The L2 coefficient (called alpha above) is a free parameter (hyperparameter) in the model, meaning we can set it whatever value we feel is best.\n",
        "\n",
        "In machine learning, we often try multiple options for these hyperparameters, and select the value with the highest model performance."
      ],
      "metadata": {
        "id": "RMdPkPVWXkWZ"
      },
      "id": "RMdPkPVWXkWZ"
    },
    {
      "cell_type": "code",
      "source": [
        "# Train on a range of alphas\n",
        "alpha = np.arange(0,20,0.1)\n",
        "ridge_tune=pd.DataFrame(alpha, columns=[\"alpha\"])\n",
        "ridge_tune['Score']=0\n",
        "i=0\n",
        "for a in alpha:\n",
        "  model= Ridge(alpha=a)\n",
        "  oos_scores = cross_val_score(model, X, Y, scoring='neg_mean_absolute_error', cv=cv, n_jobs=-1)\n",
        "  #force scores to be positive\n",
        "  oos_scores = absolute(oos_scores)\n",
        "  ridge_tune.Score.loc[i]=mean(oos_scores)\n",
        "  i=i+1\n"
      ],
      "metadata": {
        "id": "8i0UvnDnC1bf"
      },
      "id": "8i0UvnDnC1bf",
      "execution_count": null,
      "outputs": []
    },
    {
      "cell_type": "code",
      "source": [
        "# Plot model performance as a function of alpha\n",
        "plt.plot(ridge_tune.alpha, ridge_tune.Score)\n",
        "plt.show()"
      ],
      "metadata": {
        "id": "veyCGAz0YGnp"
      },
      "id": "veyCGAz0YGnp",
      "execution_count": null,
      "outputs": []
    },
    {
      "cell_type": "code",
      "source": [
        "# Select the value of alpha which minimizes MAE\n",
        "a2 = ridge_tune.alpha.iloc[ridge_tune['Score'].idxmin()]\n",
        "a2"
      ],
      "metadata": {
        "id": "-wlJ3fOlYLCi"
      },
      "id": "-wlJ3fOlYLCi",
      "execution_count": null,
      "outputs": []
    },
    {
      "cell_type": "code",
      "source": [
        "# Train model with optimized alpha\n",
        "model = Ridge(alpha=a2)\n",
        "model.fit(X,Y)\n",
        "#Print out the model coefficients\n",
        "print(model.coef_)\n",
        "vif['Ridge_coef']=model.coef_"
      ],
      "metadata": {
        "id": "9U55vUCCYTZ6"
      },
      "id": "9U55vUCCYTZ6",
      "execution_count": null,
      "outputs": []
    },
    {
      "cell_type": "markdown",
      "id": "53d94d1f",
      "metadata": {
        "id": "53d94d1f"
      },
      "source": [
        "## Penalized regression: lasso penalty\n",
        "\n",
        "From https://www.analyticsvidhya.com/blog/2016/01/ridge-lasso-regression-python-complete-tutorial/\n",
        "> LASSO stands for Least Absolute Shrinkage and Selection Operator. \n",
        "\n",
        "There are 2 key words here – **absolute** and **selection**.\n",
        "\n",
        "Lets consider the former first and worry about the latter later.\n",
        ".\n",
        "Lasso regression performs L1 regularization, i.e. it adds a factor to the sum of absolute value of coefficients in the optimization objective. Thus, lasso regression optimizes the following:\n",
        "\n",
        "**Objective = RSS + α * (sum of absolute value of coefficients)**\n",
        "\n",
        "Here, α (alpha) works similar to that of ridge and provides a trade-off between balancing RSS and magnitude of coefficients. Like that of ridge, α can take various values. Lets iterate it here briefly:\n",
        "\n",
        "* **α = 0:** Same coefficients as simple linear regression\n",
        "* **α = ∞:** All coefficients zero (same logic as before)\n",
        "* **0 < α < ∞:** coefficients between 0 and that of simple linear regression\n",
        "\n",
        "The lasso penalty shrinks unimportant coefficients down towards zero, automatically \"selecting\" important predictor variables. But what if that shrunken coefficient is induced by incidental collinearity (i.e. is a feature of how we sampled our data)?"
      ]
    },
    {
      "cell_type": "code",
      "execution_count": null,
      "id": "17f683d0",
      "metadata": {
        "id": "17f683d0"
      },
      "outputs": [],
      "source": [
        "# when L1=0, Lasso equals OLS\n",
        "model = Lasso(alpha=0)"
      ]
    },
    {
      "cell_type": "code",
      "execution_count": null,
      "id": "5eccdbab",
      "metadata": {
        "id": "5eccdbab"
      },
      "outputs": [],
      "source": [
        "# define model evaluation method\n",
        "cv = RepeatedKFold(n_splits=10, n_repeats=3, random_state=1)\n",
        "# evaluate model\n",
        "scores = cross_val_score(model, X, Y, scoring='neg_mean_absolute_error', cv=cv, n_jobs=-1)\n",
        "#force scores to be positive\n",
        "scores = absolute(scores)\n",
        "print('Mean MAE: %.3f (%.3f)' % (mean(scores), std(scores)))"
      ]
    },
    {
      "cell_type": "code",
      "execution_count": null,
      "id": "d6fd8e0a",
      "metadata": {
        "id": "d6fd8e0a"
      },
      "outputs": [],
      "source": [
        "model.fit(X,Y)\n",
        "#Print out the model coefficients\n",
        "print(model.coef_)\n",
        "#How do these compare with OLS coefficients above?\n",
        "vif['Lasso_coef']=model.coef_"
      ]
    },
    {
      "cell_type": "code",
      "execution_count": null,
      "id": "3a2b1fbc",
      "metadata": {
        "id": "3a2b1fbc"
      },
      "outputs": [],
      "source": [
        "# when L1 approaches infinity, certain coefficients will become exactly zero, and MAE equals the variance of our response variable:\n",
        "model = Lasso(alpha=10000000)"
      ]
    },
    {
      "cell_type": "code",
      "execution_count": null,
      "id": "4cd284dc",
      "metadata": {
        "id": "4cd284dc"
      },
      "outputs": [],
      "source": [
        "# define model evaluation method\n",
        "cv = RepeatedKFold(n_splits=10, n_repeats=3, random_state=1)\n",
        "# evaluate model\n",
        "scores = cross_val_score(model, X, Y, scoring='neg_mean_absolute_error', cv=cv, n_jobs=-1)\n",
        "#force scores to be positive\n",
        "scores = absolute(scores)\n",
        "print('Mean MAE: %.3f (%.3f)' % (mean(scores), std(scores)))"
      ]
    },
    {
      "cell_type": "code",
      "execution_count": null,
      "id": "9d2dd989",
      "metadata": {
        "id": "9d2dd989"
      },
      "outputs": [],
      "source": [
        "model.fit(X,Y)\n",
        "#Print out the model coefficients\n",
        "print(model.coef_)\n",
        "#How do these compare with OLS coefficients above?"
      ]
    },
    {
      "cell_type": "markdown",
      "source": [
        "### Hyperparameter tuning\n",
        "Just like with the ridge penalty, we want to select the value of alpha that minimizes error in the lasso model.\n",
        "\n",
        "We'll use hyperparameter tuning again to do this:"
      ],
      "metadata": {
        "id": "_jEuTcnQYc-J"
      },
      "id": "_jEuTcnQYc-J"
    },
    {
      "cell_type": "code",
      "source": [
        "alpha = np.arange(0,.02,0.0001)\n",
        "lasso_tune=pd.DataFrame(alpha, columns=[\"alpha\"])\n",
        "lasso_tune['Score']=0\n",
        "i=0\n",
        "for a in alpha:\n",
        "  model= Lasso(alpha=a)\n",
        "  oos_scores = cross_val_score(model, X, Y, scoring='neg_mean_absolute_error', cv=cv, n_jobs=-1)\n",
        "  #force scores to be positive\n",
        "  oos_scores = absolute(oos_scores)\n",
        "  lasso_tune.Score.loc[i]=mean(oos_scores)\n",
        "  i=i+1\n"
      ],
      "metadata": {
        "id": "qdo-lLXPYpJo"
      },
      "id": "qdo-lLXPYpJo",
      "execution_count": null,
      "outputs": []
    },
    {
      "cell_type": "code",
      "source": [
        "plt.plot(lasso_tune.alpha, lasso_tune.Score)\n",
        "plt.show()"
      ],
      "metadata": {
        "id": "teABI4eCYrFv"
      },
      "id": "teABI4eCYrFv",
      "execution_count": null,
      "outputs": []
    },
    {
      "cell_type": "code",
      "source": [
        "a1 = lasso_tune.alpha.iloc[lasso_tune['Score'].idxmin()]\n",
        "a1"
      ],
      "metadata": {
        "id": "ChgV1nFeYsWh"
      },
      "id": "ChgV1nFeYsWh",
      "execution_count": null,
      "outputs": []
    },
    {
      "cell_type": "code",
      "source": [
        "model= Lasso(alpha=a1)\n",
        "model.fit(X,Y)\n",
        "#Print out the model coefficients\n",
        "print(model.coef_)\n",
        "\n",
        "vif['LASSO_coef']= model.coef_"
      ],
      "metadata": {
        "id": "PjEFdeKGYvsu"
      },
      "id": "PjEFdeKGYvsu",
      "execution_count": null,
      "outputs": []
    },
    {
      "cell_type": "markdown",
      "id": "5fe1b7ff",
      "metadata": {
        "id": "5fe1b7ff"
      },
      "source": [
        "### Penalized regression: elastic net penalty\n",
        "\n",
        "In other words, the lasso penalty shrinks unimportant coefficients down towards zero, automatically \"selecting\" important predictor variables. The ridge penalty shrinks coefficients of collinear predictor variables nearer to each other, effectively partitioning the magnitude of response from the response variable between them, instead of \"arbitrarily\" partitioning it to one group.\n",
        "\n",
        "We can also run a regression with a linear combination of ridge and lasso, called the elastic net, that has a cool property called \"group selection.\"\n",
        "\n",
        "The ridge penalty still works to distribute response variance equally between members of \"groups\" of collinear predictor variables. The lasso penalty still works to shrink certain coefficients to exactly zero so they can be ignored in model formulation. The elastic net produces models that are both sparse and stable under collinearity, by shrinking parameters of members of unimportant collinear predictor variables to exactly zero:"
      ]
    },
    {
      "cell_type": "code",
      "execution_count": null,
      "id": "ce6967ae",
      "metadata": {
        "id": "ce6967ae"
      },
      "outputs": [],
      "source": [
        "# when L1 approaches infinity, certain coefficients will become exactly zero, and MAE equals the variance of our response variable:\n",
        "model = ElasticNet(alpha=.1, l1_ratio=0.1)"
      ]
    },
    {
      "cell_type": "code",
      "execution_count": null,
      "id": "22fc92a2",
      "metadata": {
        "id": "22fc92a2"
      },
      "outputs": [],
      "source": [
        "# define model evaluation method\n",
        "cv = RepeatedKFold(n_splits=10, n_repeats=3, random_state=1)\n",
        "# evaluate model\n",
        "scores = cross_val_score(model, X, Y, scoring='neg_mean_absolute_error', cv=cv, n_jobs=-1)\n",
        "#force scores to be positive\n",
        "scores = absolute(scores)\n",
        "print('Mean MAE: %.3f (%.3f)' % (mean(scores), std(scores)))"
      ]
    },
    {
      "cell_type": "code",
      "execution_count": null,
      "id": "0fee71d5",
      "metadata": {
        "id": "0fee71d5"
      },
      "outputs": [],
      "source": [
        "model.fit(X,Y)\n",
        "#Print out the model coefficients\n",
        "print(model.coef_)\n",
        "#How do these compare with OLS coefficients above?"
      ]
    },
    {
      "cell_type": "markdown",
      "id": "ac8a540d",
      "metadata": {
        "id": "ac8a540d"
      },
      "source": [
        "### TASK 12: Match these elastic net coefficients up with your original data. Do you see a logical grouping(s) between variables that have non-zero coefficients? Explain why or why not.\n",
        "*Type answer here*"
      ]
    },
    {
      "cell_type": "code",
      "execution_count": null,
      "id": "6c12c783",
      "metadata": {
        "id": "6c12c783"
      },
      "outputs": [],
      "source": [
        "# Task 11 scratch cell:"
      ]
    },
    {
      "cell_type": "markdown",
      "source": [
        "## Extra Credit:\n",
        "We saw how to tune individual parameters above. The elastic net regression here has two free parameters. How can you select the best values for these two free parameters?\n",
        "\n",
        "Demonstrate in the cell below."
      ],
      "metadata": {
        "id": "Nnze7XzTY4SP"
      },
      "id": "Nnze7XzTY4SP"
    },
    {
      "cell_type": "code",
      "source": [
        "# Extra credit scratch cell:"
      ],
      "metadata": {
        "id": "m_VFrqwpY30S"
      },
      "id": "m_VFrqwpY30S",
      "execution_count": null,
      "outputs": []
    }
  ],
  "metadata": {
    "kernelspec": {
      "display_name": "geostats_env",
      "language": "python",
      "name": "geostats_env"
    },
    "language_info": {
      "codemirror_mode": {
        "name": "ipython",
        "version": 3
      },
      "file_extension": ".py",
      "mimetype": "text/x-python",
      "name": "python",
      "nbconvert_exporter": "python",
      "pygments_lexer": "ipython3",
      "version": "3.7.11"
    },
    "colab": {
      "provenance": [],
      "include_colab_link": true
    }
  },
  "nbformat": 4,
  "nbformat_minor": 5
}